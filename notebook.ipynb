{
 "cells": [
  {
   "cell_type": "markdown",
   "metadata": {},
   "source": [
    "# Предсказание стоимости автомобилей марки Ford\n",
    "\n",
    "Для исследования получен текстовый файл с североамериканскими VIN-кодами машин марки FORD и стоимостью этих автомобилей. \n",
    "\n",
    "Единственный источник информации об автомобилях - VIN-код. VIN-код можно декодировать и получить гораздо больше информации, чем просто набор знаков. VIN-код содержит информацию о стране, названии производителя, характеристиках авто (модель, двигатель, тип кузова), типе топлива, годе выпуска и сборочном заводе. Вся эта информация хранится в 17 числовых и буквенных знаках.\n",
    "\n",
    "Важно, отметить, что символами VIN могут быть заглавные буквы от A до Z и цифры от 1 до 0; однако буквы **I, O и Q** никогда не используются во избежание ошибок при чтении. В VIN не допускается использование знаков или пробелов. Нет двух одинаковых VIN.\n",
    "\n",
    "**Цель - обучить модель, предсказывающую стоимость автомобилей, основываясь на признаках зашифрованных в VIN-коде.**\n",
    "\n",
    "Задачи:\n",
    "1) Подготовка регулярного выражения для парсинга VIN-кода и получить датасет данных\n",
    "2) EDA\n",
    "3) Обучение модели\n",
    "4) Анализ важности признаков\n",
    "5) Создание класса, предоставляющего инфо об автомобиле и его предсказанную стоимость на основании VIN-кода\n",
    "\n",
    "## 1. Обзор данных"
   ]
  },
  {
   "cell_type": "code",
   "execution_count": 111,
   "metadata": {},
   "outputs": [],
   "source": [
    "import pandas as pd\n",
    "import re \n",
    "import numpy as np\n",
    "\n",
    "import matplotlib.pyplot as plt\n",
    "import seaborn as sns\n",
    "import phik\n",
    "\n",
    "from sklearn.model_selection import train_test_split, cross_val_score, cross_validate\n",
    "from sklearn.linear_model import LinearRegression, ElasticNet\n",
    "from sklearn.preprocessing import OneHotEncoder , OrdinalEncoder\n",
    "from sklearn.metrics import mean_absolute_error, root_mean_squared_error, mean_absolute_percentage_error, r2_score\n",
    "from sklearn.pipeline import Pipeline\n",
    "from sklearn.compose import ColumnTransformer\n",
    "from catboost import Pool, CatBoostRegressor\n",
    "from sklearn.dummy import DummyRegressor\n",
    "import shap\n",
    "from sklearn.inspection import permutation_importance\n",
    "from io import StringIO\n",
    "import pickle\n",
    "RANDOM_STATE = 42"
   ]
  },
  {
   "cell_type": "code",
   "execution_count": 112,
   "metadata": {},
   "outputs": [],
   "source": [
    "with open('vin_ford_train.txt', 'r', encoding='utf-8') as file:\n",
    "    vins = file.read()"
   ]
  },
  {
   "cell_type": "code",
   "execution_count": 113,
   "metadata": {},
   "outputs": [
    {
     "data": {
      "text/plain": [
       "'[2FMDK3JC4BBA41556:12500]мой[3FA6P0H75ER208976:14500]дядя [3FAHP08Z17R268380:1300][1FMCU0GX3DUC59421:15200]'"
      ]
     },
     "execution_count": 113,
     "metadata": {},
     "output_type": "execute_result"
    }
   ],
   "source": [
    "vin_sample = vins[:107]\n",
    "vin_sample"
   ]
  },
  {
   "cell_type": "code",
   "execution_count": 114,
   "metadata": {},
   "outputs": [
    {
     "data": {
      "text/plain": [
       "1775058"
      ]
     },
     "execution_count": 114,
     "metadata": {},
     "output_type": "execute_result"
    }
   ],
   "source": [
    "len(vins)"
   ]
  },
  {
   "cell_type": "markdown",
   "metadata": {},
   "source": [
    "Один вин-код авто и его стоимость расположены в квадратных скобках. Между вин-кодами может присутствовать какой-то текстовый шум.\n",
    "\n",
    "## 2. Подготовка датасета\n",
    "\n",
    "Напишем регулярное выражение для североамериканских вин-кодов машин марки Ford."
   ]
  },
  {
   "cell_type": "code",
   "execution_count": 115,
   "metadata": {},
   "outputs": [],
   "source": [
    "# отберем только разрешенные символы - все цифры и  латинские заглавные буквы, кроме I O Q\n",
    "allowed = r'ABCDEFGHJKLMNPRSTUVWXYZ1234567890'"
   ]
  },
  {
   "cell_type": "code",
   "execution_count": 116,
   "metadata": {},
   "outputs": [
    {
     "data": {
      "text/html": [
       "<div>\n",
       "<style scoped>\n",
       "    .dataframe tbody tr th:only-of-type {\n",
       "        vertical-align: middle;\n",
       "    }\n",
       "\n",
       "    .dataframe tbody tr th {\n",
       "        vertical-align: top;\n",
       "    }\n",
       "\n",
       "    .dataframe thead th {\n",
       "        text-align: right;\n",
       "    }\n",
       "</style>\n",
       "<table border=\"1\" class=\"dataframe\">\n",
       "  <thead>\n",
       "    <tr style=\"text-align: right;\">\n",
       "      <th></th>\n",
       "      <th>wmi</th>\n",
       "      <th>brake</th>\n",
       "      <th>model</th>\n",
       "      <th>engine</th>\n",
       "      <th>check</th>\n",
       "      <th>year</th>\n",
       "      <th>plant</th>\n",
       "      <th>series</th>\n",
       "      <th>price</th>\n",
       "    </tr>\n",
       "  </thead>\n",
       "  <tbody>\n",
       "    <tr>\n",
       "      <th>0</th>\n",
       "      <td>2FM</td>\n",
       "      <td>D</td>\n",
       "      <td>K3J</td>\n",
       "      <td>C</td>\n",
       "      <td>4</td>\n",
       "      <td>B</td>\n",
       "      <td>B</td>\n",
       "      <td>A41556</td>\n",
       "      <td>12500</td>\n",
       "    </tr>\n",
       "    <tr>\n",
       "      <th>1</th>\n",
       "      <td>3FA</td>\n",
       "      <td>6</td>\n",
       "      <td>P0H</td>\n",
       "      <td>7</td>\n",
       "      <td>5</td>\n",
       "      <td>E</td>\n",
       "      <td>R</td>\n",
       "      <td>208976</td>\n",
       "      <td>14500</td>\n",
       "    </tr>\n",
       "    <tr>\n",
       "      <th>2</th>\n",
       "      <td>3FA</td>\n",
       "      <td>H</td>\n",
       "      <td>P08</td>\n",
       "      <td>Z</td>\n",
       "      <td>1</td>\n",
       "      <td>7</td>\n",
       "      <td>R</td>\n",
       "      <td>268380</td>\n",
       "      <td>1300</td>\n",
       "    </tr>\n",
       "    <tr>\n",
       "      <th>3</th>\n",
       "      <td>1FM</td>\n",
       "      <td>C</td>\n",
       "      <td>U0G</td>\n",
       "      <td>X</td>\n",
       "      <td>3</td>\n",
       "      <td>D</td>\n",
       "      <td>U</td>\n",
       "      <td>C59421</td>\n",
       "      <td>15200</td>\n",
       "    </tr>\n",
       "  </tbody>\n",
       "</table>\n",
       "</div>"
      ],
      "text/plain": [
       "   wmi brake model engine check year plant  series  price\n",
       "0  2FM     D   K3J      C     4    B     B  A41556  12500\n",
       "1  3FA     6   P0H      7     5    E     R  208976  14500\n",
       "2  3FA     H   P08      Z     1    7     R  268380   1300\n",
       "3  1FM     C   U0G      X     3    D     U  C59421  15200"
      ]
     },
     "execution_count": 116,
     "metadata": {},
     "output_type": "execute_result"
    }
   ],
   "source": [
    "wmi = f'(?P<wmi>[{allowed}]{{3}})'   #1-3\n",
    "brake = f'(?P<brake>[{allowed}]{{1}})' #4\n",
    "model = f'(?P<model>[{allowed}]{{3}})' #5-7\n",
    "engine = f'(?P<engine>[{allowed}]{{1}})' #8\n",
    "check = f'(?P<check>[{allowed}]{{1}})' #9\n",
    "year = f'(?P<year>[{allowed}]{{1}})' #10\n",
    "plant = f'(?P<plant>[{allowed}]{{1}})' #11\n",
    "series = f'(?P<series>[{allowed}]{{3}}\\\\d{{3}})' #12-17\n",
    "price = f':(?P<price>\\d+)' #price\n",
    "\n",
    "vin = f'({wmi}{brake}{model}{engine}{check}{year}{plant}{series}{price})'\n",
    "vin_re = re.compile(vin, re.X)\n",
    "vin_re\n",
    "# оценим, правильно ли работает RE на небольшом примере\n",
    "pd.DataFrame([x.groupdict() for x in vin_re.finditer(vin_sample)])"
   ]
  },
  {
   "cell_type": "markdown",
   "metadata": {},
   "source": [
    "Регулярное выражение верно разделяет вин-код, поэтому создаем датафрейм."
   ]
  },
  {
   "cell_type": "code",
   "execution_count": 117,
   "metadata": {},
   "outputs": [],
   "source": [
    "vin_df = pd.DataFrame([x.groupdict() for x in vin_re.finditer(vins)])"
   ]
  },
  {
   "cell_type": "code",
   "execution_count": 118,
   "metadata": {},
   "outputs": [
    {
     "data": {
      "text/html": [
       "<div>\n",
       "<style scoped>\n",
       "    .dataframe tbody tr th:only-of-type {\n",
       "        vertical-align: middle;\n",
       "    }\n",
       "\n",
       "    .dataframe tbody tr th {\n",
       "        vertical-align: top;\n",
       "    }\n",
       "\n",
       "    .dataframe thead th {\n",
       "        text-align: right;\n",
       "    }\n",
       "</style>\n",
       "<table border=\"1\" class=\"dataframe\">\n",
       "  <thead>\n",
       "    <tr style=\"text-align: right;\">\n",
       "      <th></th>\n",
       "      <th>wmi</th>\n",
       "      <th>brake</th>\n",
       "      <th>model</th>\n",
       "      <th>engine</th>\n",
       "      <th>check</th>\n",
       "      <th>year</th>\n",
       "      <th>plant</th>\n",
       "      <th>series</th>\n",
       "      <th>price</th>\n",
       "    </tr>\n",
       "  </thead>\n",
       "  <tbody>\n",
       "    <tr>\n",
       "      <th>6624</th>\n",
       "      <td>1FM</td>\n",
       "      <td>C</td>\n",
       "      <td>U0C</td>\n",
       "      <td>7</td>\n",
       "      <td>0</td>\n",
       "      <td>B</td>\n",
       "      <td>K</td>\n",
       "      <td>C64882</td>\n",
       "      <td>8900</td>\n",
       "    </tr>\n",
       "    <tr>\n",
       "      <th>69177</th>\n",
       "      <td>1FA</td>\n",
       "      <td>H</td>\n",
       "      <td>P3K</td>\n",
       "      <td>2</td>\n",
       "      <td>8</td>\n",
       "      <td>C</td>\n",
       "      <td>L</td>\n",
       "      <td>327043</td>\n",
       "      <td>9500</td>\n",
       "    </tr>\n",
       "    <tr>\n",
       "      <th>9531</th>\n",
       "      <td>1FA</td>\n",
       "      <td>F</td>\n",
       "      <td>P53</td>\n",
       "      <td>U</td>\n",
       "      <td>3</td>\n",
       "      <td>5</td>\n",
       "      <td>A</td>\n",
       "      <td>250552</td>\n",
       "      <td>1300</td>\n",
       "    </tr>\n",
       "    <tr>\n",
       "      <th>65214</th>\n",
       "      <td>1FB</td>\n",
       "      <td>A</td>\n",
       "      <td>X2X</td>\n",
       "      <td>M</td>\n",
       "      <td>X</td>\n",
       "      <td>F</td>\n",
       "      <td>K</td>\n",
       "      <td>A29981</td>\n",
       "      <td>33500</td>\n",
       "    </tr>\n",
       "    <tr>\n",
       "      <th>16670</th>\n",
       "      <td>1FA</td>\n",
       "      <td>F</td>\n",
       "      <td>P34</td>\n",
       "      <td>N</td>\n",
       "      <td>0</td>\n",
       "      <td>6</td>\n",
       "      <td>W</td>\n",
       "      <td>226998</td>\n",
       "      <td>2300</td>\n",
       "    </tr>\n",
       "  </tbody>\n",
       "</table>\n",
       "</div>"
      ],
      "text/plain": [
       "       wmi brake model engine check year plant  series  price\n",
       "6624   1FM     C   U0C      7     0    B     K  C64882   8900\n",
       "69177  1FA     H   P3K      2     8    C     L  327043   9500\n",
       "9531   1FA     F   P53      U     3    5     A  250552   1300\n",
       "65214  1FB     A   X2X      M     X    F     K  A29981  33500\n",
       "16670  1FA     F   P34      N     0    6     W  226998   2300"
      ]
     },
     "execution_count": 118,
     "metadata": {},
     "output_type": "execute_result"
    }
   ],
   "source": [
    "vin_df.sample(5)"
   ]
  },
  {
   "cell_type": "code",
   "execution_count": 119,
   "metadata": {},
   "outputs": [
    {
     "name": "stdout",
     "output_type": "stream",
     "text": [
      "<class 'pandas.core.frame.DataFrame'>\n",
      "RangeIndex: 71884 entries, 0 to 71883\n",
      "Data columns (total 9 columns):\n",
      " #   Column  Non-Null Count  Dtype \n",
      "---  ------  --------------  ----- \n",
      " 0   wmi     71884 non-null  object\n",
      " 1   brake   71884 non-null  object\n",
      " 2   model   71884 non-null  object\n",
      " 3   engine  71884 non-null  object\n",
      " 4   check   71884 non-null  object\n",
      " 5   year    71884 non-null  object\n",
      " 6   plant   71884 non-null  object\n",
      " 7   series  71884 non-null  object\n",
      " 8   price   71884 non-null  object\n",
      "dtypes: object(9)\n",
      "memory usage: 4.9+ MB\n"
     ]
    }
   ],
   "source": [
    "vin_df.info()"
   ]
  },
  {
   "cell_type": "code",
   "execution_count": 120,
   "metadata": {},
   "outputs": [
    {
     "data": {
      "text/html": [
       "<div>\n",
       "<style scoped>\n",
       "    .dataframe tbody tr th:only-of-type {\n",
       "        vertical-align: middle;\n",
       "    }\n",
       "\n",
       "    .dataframe tbody tr th {\n",
       "        vertical-align: top;\n",
       "    }\n",
       "\n",
       "    .dataframe thead th {\n",
       "        text-align: right;\n",
       "    }\n",
       "</style>\n",
       "<table border=\"1\" class=\"dataframe\">\n",
       "  <thead>\n",
       "    <tr style=\"text-align: right;\">\n",
       "      <th></th>\n",
       "      <th>wmi</th>\n",
       "      <th>brake</th>\n",
       "      <th>model</th>\n",
       "      <th>engine</th>\n",
       "      <th>check</th>\n",
       "      <th>year</th>\n",
       "      <th>plant</th>\n",
       "      <th>series</th>\n",
       "      <th>price</th>\n",
       "    </tr>\n",
       "  </thead>\n",
       "  <tbody>\n",
       "    <tr>\n",
       "      <th>count</th>\n",
       "      <td>71884</td>\n",
       "      <td>71884</td>\n",
       "      <td>71884</td>\n",
       "      <td>71884</td>\n",
       "      <td>71884</td>\n",
       "      <td>71884</td>\n",
       "      <td>71884</td>\n",
       "      <td>71884</td>\n",
       "      <td>71884</td>\n",
       "    </tr>\n",
       "    <tr>\n",
       "      <th>unique</th>\n",
       "      <td>14</td>\n",
       "      <td>26</td>\n",
       "      <td>365</td>\n",
       "      <td>32</td>\n",
       "      <td>11</td>\n",
       "      <td>25</td>\n",
       "      <td>21</td>\n",
       "      <td>68215</td>\n",
       "      <td>643</td>\n",
       "    </tr>\n",
       "    <tr>\n",
       "      <th>top</th>\n",
       "      <td>1FM</td>\n",
       "      <td>D</td>\n",
       "      <td>P0H</td>\n",
       "      <td>2</td>\n",
       "      <td>1</td>\n",
       "      <td>D</td>\n",
       "      <td>R</td>\n",
       "      <td>B55197</td>\n",
       "      <td>11000</td>\n",
       "    </tr>\n",
       "    <tr>\n",
       "      <th>freq</th>\n",
       "      <td>18347</td>\n",
       "      <td>12370</td>\n",
       "      <td>6171</td>\n",
       "      <td>7015</td>\n",
       "      <td>6622</td>\n",
       "      <td>17286</td>\n",
       "      <td>10535</td>\n",
       "      <td>4</td>\n",
       "      <td>574</td>\n",
       "    </tr>\n",
       "  </tbody>\n",
       "</table>\n",
       "</div>"
      ],
      "text/plain": [
       "          wmi  brake  model engine  check   year  plant  series  price\n",
       "count   71884  71884  71884  71884  71884  71884  71884   71884  71884\n",
       "unique     14     26    365     32     11     25     21   68215    643\n",
       "top       1FM      D    P0H      2      1      D      R  B55197  11000\n",
       "freq    18347  12370   6171   7015   6622  17286  10535       4    574"
      ]
     },
     "execution_count": 120,
     "metadata": {},
     "output_type": "execute_result"
    }
   ],
   "source": [
    "vin_df.describe(include='all')"
   ]
  },
  {
   "cell_type": "code",
   "execution_count": 121,
   "metadata": {},
   "outputs": [
    {
     "data": {
      "text/plain": [
       "(71884, 9)"
      ]
     },
     "execution_count": 121,
     "metadata": {},
     "output_type": "execute_result"
    }
   ],
   "source": [
    "vin_df.shape"
   ]
  },
  {
   "cell_type": "markdown",
   "metadata": {},
   "source": [
    "Приведем значение цены к числовому типу данных:"
   ]
  },
  {
   "cell_type": "code",
   "execution_count": 122,
   "metadata": {},
   "outputs": [],
   "source": [
    "vin_df['price'] = vin_df['price'].astype(int)"
   ]
  },
  {
   "cell_type": "markdown",
   "metadata": {},
   "source": [
    "### Вывод:\n",
    "- создали регулярное выражение для вычленения характеристик авто из вин-кода\n",
    "- получили датасет из 9 колонок и 71884 записей"
   ]
  },
  {
   "cell_type": "markdown",
   "metadata": {},
   "source": [
    "## 3. EDA\n",
    "\n",
    "Посмотрим на распределение значений признаков и стоимости авто."
   ]
  },
  {
   "cell_type": "code",
   "execution_count": 123,
   "metadata": {},
   "outputs": [
    {
     "data": {
      "text/plain": [
       "Text(0, 0.5, 'Стоимость')"
      ]
     },
     "execution_count": 123,
     "metadata": {},
     "output_type": "execute_result"
    },
    {
     "data": {
      "image/png": "[encoded data removed]",
      "text/plain": [
       "<Figure size 1440x504 with 2 Axes>"
      ]
     },
     "metadata": {
      "needs_background": "light"
     },
     "output_type": "display_data"
    }
   ],
   "source": [
    "fig, ax = plt.subplots(1,2, figsize = (20,7))\n",
    "fig.suptitle('Стоимость авто', fontsize = 20)\n",
    "sns.histplot(x = vin_df['price'], ax = ax[0])\n",
    "sns.boxplot(vin_df['price'], ax = ax[1])\n",
    "ax[0].set_title('Распределение', fontsize = 15)\n",
    "ax[0].set_xlabel('Cтоимость', fontsize = 10)\n",
    "ax[0].set_ylabel('Количество авто', fontsize = 10)\n",
    "ax[1].set_title('Разброс', fontsize = 15)\n",
    "ax[1].set_ylabel('Стоимость', fontsize = 10)\n",
    "\n"
   ]
  },
  {
   "cell_type": "code",
   "execution_count": 124,
   "metadata": {},
   "outputs": [
    {
     "data": {
      "text/plain": [
       "count    71884.000000\n",
       "mean     14321.449377\n",
       "std       7827.057238\n",
       "min       1000.000000\n",
       "25%       8800.000000\n",
       "50%      13500.000000\n",
       "75%      19500.000000\n",
       "max      36500.000000\n",
       "Name: price, dtype: float64"
      ]
     },
     "execution_count": 124,
     "metadata": {},
     "output_type": "execute_result"
    }
   ],
   "source": [
    "vin_df['price'].describe()"
   ]
  },
  {
   "cell_type": "markdown",
   "metadata": {},
   "source": [
    "- Цены авто начинаются от 1 тыс. у.е.\n",
    "- В среднем авто стоит 9-20 тыс. у.е.\n",
    "- Есть относительно очень дорогие машины (более 30 тыс. у.е.), их мало\n"
   ]
  },
  {
   "cell_type": "code",
   "execution_count": 125,
   "metadata": {},
   "outputs": [],
   "source": [
    "def bar_for_cat(df, cat_cols):\n",
    "    fig, axs = plt.subplots(nrows=2, ncols=3, figsize=(20, 12))\n",
    "    fig.suptitle('Распределение категориальных признаков' , fontsize=18,  y=0.98)\n",
    "    for col, ax in zip(cat_cols, axs.ravel()):\n",
    "        sns.countplot(x = df[col], order = df[col].value_counts().index, hue = df[col], legend=False, ax =ax)\n",
    "        ax.set_title(col, fontsize=15)\n",
    "        ax.set_xlabel(col, fontsize=12)\n",
    "        ax.set_ylabel('Количество авто', fontsize=12)\n"
   ]
  },
  {
   "cell_type": "code",
   "execution_count": 126,
   "metadata": {},
   "outputs": [
    {
     "data": {
      "image/png": "[encoded data removed]",
      "text/plain": [
       "<Figure size 1440x864 with 6 Axes>"
      ]
     },
     "metadata": {
      "needs_background": "light"
     },
     "output_type": "display_data"
    }
   ],
   "source": [
    "bar_for_cat(vin_df,vin_df.drop(columns=['price', 'series', 'model']).columns)"
   ]
  },
  {
   "cell_type": "code",
   "execution_count": 127,
   "metadata": {},
   "outputs": [
    {
     "name": "stderr",
     "output_type": "stream",
     "text": [
      "C:\\Users\\very-\\AppData\\Local\\Temp\\ipykernel_15964\\482109466.py:11: UserWarning: set_ticklabels() should only be used with a fixed number of ticks, i.e. after set_ticks() or using a FixedLocator.\n",
      "  ax.set_xticklabels(ax.get_xticklabels(), rotation=45, horizontalalignment='right')\n",
      "C:\\Users\\very-\\AppData\\Local\\Temp\\ipykernel_15964\\482109466.py:11: UserWarning: set_ticklabels() should only be used with a fixed number of ticks, i.e. after set_ticks() or using a FixedLocator.\n",
      "  ax.set_xticklabels(ax.get_xticklabels(), rotation=45, horizontalalignment='right')\n"
     ]
    },
    {
     "data": {
      "image/png": "[encoded data removed]",
      "text/plain": [
       "<Figure size 864x432 with 2 Axes>"
      ]
     },
     "metadata": {
      "needs_background": "light"
     },
     "output_type": "display_data"
    }
   ],
   "source": [
    "fig, axs = plt.subplots(nrows=1, ncols=2, figsize=(12, 6))\n",
    "fig.suptitle('ТОП 10 моделей и серийных номеров' , fontsize=18,  y=0.98)\n",
    "cols = ['model', 'series']\n",
    "for col, ax in zip(cols, axs.ravel()):\n",
    "    top_values = vin_df[col].value_counts().iloc[:10]\n",
    "    sns.barplot(x=top_values.index, y=top_values.values, hue=top_values.index, legend=False, ax=ax)\n",
    "    # sns.countplot(x = vin_df[col].value_counts().values[:10], order = vin_df[col].value_counts().index[:10], hue = vin_df[col].value_counts().values[:10], legend=False, ax=ax)\n",
    "    ax.set_title(col, fontsize=15)\n",
    "    ax.set_xlabel(col, fontsize=12)\n",
    "    ax.set_ylabel('Количество авто', fontsize=12)\n",
    "    ax.set_xticklabels(ax.get_xticklabels(), rotation=45, horizontalalignment='right')"
   ]
  },
  {
   "cell_type": "markdown",
   "metadata": {},
   "source": [
    "Категориальные признаки имеют большое количество подгрупп.\n",
    "- Серийный номер авто почти уникален\n",
    "- ТОП-3 wmi 1FM, 1FT, 1FA, расшифровывается как  Ford MPV/SUV, Ford truck, Ford car  - Кроссоверы, грузовики, пассажирские авто марки Форд\n",
    "- ТОП-3 brake D, H, C. Под этим символами понимаются характеристики тормозной системы,удерживающих устройств. D- Активные ремни безопасности, а также передние и боковые подушки безопасности водителя и пассажира и коленные подушки безопасности со стороны водителя. H - Активные ремни безопасности, а также передние и боковые подушки безопасности водителя и пассажира. C - Активные ремни безопасности, а также передние подушки безопасности\n",
    "- значения check распределены равномерно\n",
    "- ТОП-3 year D, E, C: год производства 1983 или 2013, 1984 или 2014 и 1982 или 2012 соотвественно.\n",
    "- ТОП-3 engine  2, 8, C . Три определенные конфигурации мотора\n",
    "- ТОП-3 Plant R, K, L: заводы San Jose Assembly (Milpitas, California), Kansas City Assembly (Claycomo, Missouri), Michigan Assembly (Wayne, Michigan)\n",
    "- ТОП-3 model POH, P3F, W1E : модели Ford Fusion; SE, FWD ('10-'12); Ford Focus, 4-door sedan; SE ('10-'11); Ford F-Series, F-150, SuperCrew (Crew Cab), Styleside, 4WD ('10-'23)"
   ]
  },
  {
   "cell_type": "code",
   "execution_count": 128,
   "metadata": {},
   "outputs": [
    {
     "data": {
      "image/png": "[encoded data removed]",
      "text/plain": [
       "<Figure size 864x864 with 2 Axes>"
      ]
     },
     "metadata": {
      "needs_background": "light"
     },
     "output_type": "display_data"
    }
   ],
   "source": [
    "corr_matrix = vin_df.drop(columns=['series']).phik_matrix(interval_cols=['price'],)\n",
    "\n",
    "plt.figure(figsize=(12,12))\n",
    "sns.heatmap(corr_matrix, annot=True, cmap='coolwarm')\n",
    "plt.title('Phi-корреляция между признаками ')\n",
    "plt.show();\n"
   ]
  },
  {
   "cell_type": "markdown",
   "metadata": {},
   "source": [
    "- страна и производитель в значительной степени определяют характеристики торомозов и удерживающих устройств. Страна и производитель почти однозначно определяет модель и завод, где  произведено авто. Видимо, определенные модели производились на определенных заводах.\n",
    "-  модель однозначно определяет характеристики,заложенные в авто, что логично. Год производства \n",
    "- Год производства сильно звзаимосвязан с моделью. Так как в разные времена выпускали разные модели.\n",
    "- Целевой признак - стоимость авто - имеет достаточно сильную зависимость от характеристик машины, года производства."
   ]
  },
  {
   "cell_type": "markdown",
   "metadata": {},
   "source": [
    "### Вывод:\n",
    "- Данные в датасете распределены адекватно\n",
    "- Цены авто начинаются от 1 тыс. у.е. В среднем авто стоит 9-20 тыс. у.е.\n",
    "- Целевой признак - стоимость авто - имеет достаточно сильную зависимость от характеристик машины, года производства."
   ]
  },
  {
   "cell_type": "markdown",
   "metadata": {},
   "source": [
    "## 4. Обучение модели\n",
    "\n",
    "- уберем из датасета для обучения признаки `check` и `series`, так как они никак не связан с другими входными признаками и с таргетом."
   ]
  },
  {
   "cell_type": "code",
   "execution_count": 129,
   "metadata": {},
   "outputs": [],
   "source": [
    "vin_df_ml = vin_df.drop(columns=['check', 'series', 'price'])\n",
    "target = vin_df.price"
   ]
  },
  {
   "cell_type": "code",
   "execution_count": 130,
   "metadata": {},
   "outputs": [],
   "source": [
    "X_train, X_test, y_train, y_test = train_test_split(vin_df_ml, target, test_size=0.2, random_state=RANDOM_STATE)"
   ]
  },
  {
   "cell_type": "code",
   "execution_count": 131,
   "metadata": {},
   "outputs": [
    {
     "data": {
      "text/plain": [
       "(57507, 6)"
      ]
     },
     "execution_count": 131,
     "metadata": {},
     "output_type": "execute_result"
    }
   ],
   "source": [
    "X_train.shape"
   ]
  },
  {
   "cell_type": "code",
   "execution_count": 132,
   "metadata": {},
   "outputs": [
    {
     "data": {
      "text/plain": [
       "(14377, 6)"
      ]
     },
     "execution_count": 132,
     "metadata": {},
     "output_type": "execute_result"
    }
   ],
   "source": [
    "X_test.shape"
   ]
  },
  {
   "cell_type": "markdown",
   "metadata": {},
   "source": [
    "Сделаем прогноз константой (средним значением), чтобы оценивать адекватность наших реальных моделей:"
   ]
  },
  {
   "cell_type": "code",
   "execution_count": 133,
   "metadata": {},
   "outputs": [
    {
     "data": {
      "text/html": [
       "<style>#sk-container-id-2 {\n",
       "  /* Definition of color scheme common for light and dark mode */\n",
       "  --sklearn-color-text: black;\n",
       "  --sklearn-color-line: gray;\n",
       "  /* Definition of color scheme for unfitted estimators */\n",
       "  --sklearn-color-unfitted-level-0: #fff5e6;\n",
       "  --sklearn-color-unfitted-level-1: #f6e4d2;\n",
       "  --sklearn-color-unfitted-level-2: #ffe0b3;\n",
       "  --sklearn-color-unfitted-level-3: chocolate;\n",
       "  /* Definition of color scheme for fitted estimators */\n",
       "  --sklearn-color-fitted-level-0: #f0f8ff;\n",
       "  --sklearn-color-fitted-level-1: #d4ebff;\n",
       "  --sklearn-color-fitted-level-2: #b3dbfd;\n",
       "  --sklearn-color-fitted-level-3: cornflowerblue;\n",
       "\n",
       "  /* Specific color for light theme */\n",
       "  --sklearn-color-text-on-default-background: var(--sg-text-color, var(--theme-code-foreground, var(--jp-content-font-color1, black)));\n",
       "  --sklearn-color-background: var(--sg-background-color, var(--theme-background, var(--jp-layout-color0, white)));\n",
       "  --sklearn-color-border-box: var(--sg-text-color, var(--theme-code-foreground, var(--jp-content-font-color1, black)));\n",
       "  --sklearn-color-icon: #696969;\n",
       "\n",
       "  @media (prefers-color-scheme: dark) {\n",
       "    /* Redefinition of color scheme for dark theme */\n",
       "    --sklearn-color-text-on-default-background: var(--sg-text-color, var(--theme-code-foreground, var(--jp-content-font-color1, white)));\n",
       "    --sklearn-color-background: var(--sg-background-color, var(--theme-background, var(--jp-layout-color0, #111)));\n",
       "    --sklearn-color-border-box: var(--sg-text-color, var(--theme-code-foreground, var(--jp-content-font-color1, white)));\n",
       "    --sklearn-color-icon: #878787;\n",
       "  }\n",
       "}\n",
       "\n",
       "#sk-container-id-2 {\n",
       "  color: var(--sklearn-color-text);\n",
       "}\n",
       "\n",
       "#sk-container-id-2 pre {\n",
       "  padding: 0;\n",
       "}\n",
       "\n",
       "#sk-container-id-2 input.sk-hidden--visually {\n",
       "  border: 0;\n",
       "  clip: rect(1px 1px 1px 1px);\n",
       "  clip: rect(1px, 1px, 1px, 1px);\n",
       "  height: 1px;\n",
       "  margin: -1px;\n",
       "  overflow: hidden;\n",
       "  padding: 0;\n",
       "  position: absolute;\n",
       "  width: 1px;\n",
       "}\n",
       "\n",
       "#sk-container-id-2 div.sk-dashed-wrapped {\n",
       "  border: 1px dashed var(--sklearn-color-line);\n",
       "  margin: 0 0.4em 0.5em 0.4em;\n",
       "  box-sizing: border-box;\n",
       "  padding-bottom: 0.4em;\n",
       "  background-color: var(--sklearn-color-background);\n",
       "}\n",
       "\n",
       "#sk-container-id-2 div.sk-container {\n",
       "  /* jupyter's `normalize.less` sets `[hidden] { display: none; }`\n",
       "     but bootstrap.min.css set `[hidden] { display: none !important; }`\n",
       "     so we also need the `!important` here to be able to override the\n",
       "     default hidden behavior on the sphinx rendered scikit-learn.org.\n",
       "     See: https://github.com/scikit-learn/scikit-learn/issues/21755 */\n",
       "  display: inline-block !important;\n",
       "  position: relative;\n",
       "}\n",
       "\n",
       "#sk-container-id-2 div.sk-text-repr-fallback {\n",
       "  display: none;\n",
       "}\n",
       "\n",
       "div.sk-parallel-item,\n",
       "div.sk-serial,\n",
       "div.sk-item {\n",
       "  /* draw centered vertical line to link estimators */\n",
       "  background-image: linear-gradient(var(--sklearn-color-text-on-default-background), var(--sklearn-color-text-on-default-background));\n",
       "  background-size: 2px 100%;\n",
       "  background-repeat: no-repeat;\n",
       "  background-position: center center;\n",
       "}\n",
       "\n",
       "/* Parallel-specific style estimator block */\n",
       "\n",
       "#sk-container-id-2 div.sk-parallel-item::after {\n",
       "  content: \"\";\n",
       "  width: 100%;\n",
       "  border-bottom: 2px solid var(--sklearn-color-text-on-default-background);\n",
       "  flex-grow: 1;\n",
       "}\n",
       "\n",
       "#sk-container-id-2 div.sk-parallel {\n",
       "  display: flex;\n",
       "  align-items: stretch;\n",
       "  justify-content: center;\n",
       "  background-color: var(--sklearn-color-background);\n",
       "  position: relative;\n",
       "}\n",
       "\n",
       "#sk-container-id-2 div.sk-parallel-item {\n",
       "  display: flex;\n",
       "  flex-direction: column;\n",
       "}\n",
       "\n",
       "#sk-container-id-2 div.sk-parallel-item:first-child::after {\n",
       "  align-self: flex-end;\n",
       "  width: 50%;\n",
       "}\n",
       "\n",
       "#sk-container-id-2 div.sk-parallel-item:last-child::after {\n",
       "  align-self: flex-start;\n",
       "  width: 50%;\n",
       "}\n",
       "\n",
       "#sk-container-id-2 div.sk-parallel-item:only-child::after {\n",
       "  width: 0;\n",
       "}\n",
       "\n",
       "/* Serial-specific style estimator block */\n",
       "\n",
       "#sk-container-id-2 div.sk-serial {\n",
       "  display: flex;\n",
       "  flex-direction: column;\n",
       "  align-items: center;\n",
       "  background-color: var(--sklearn-color-background);\n",
       "  padding-right: 1em;\n",
       "  padding-left: 1em;\n",
       "}\n",
       "\n",
       "\n",
       "/* Toggleable style: style used for estimator/Pipeline/ColumnTransformer box that is\n",
       "clickable and can be expanded/collapsed.\n",
       "- Pipeline and ColumnTransformer use this feature and define the default style\n",
       "- Estimators will overwrite some part of the style using the `sk-estimator` class\n",
       "*/\n",
       "\n",
       "/* Pipeline and ColumnTransformer style (default) */\n",
       "\n",
       "#sk-container-id-2 div.sk-toggleable {\n",
       "  /* Default theme specific background. It is overwritten whether we have a\n",
       "  specific estimator or a Pipeline/ColumnTransformer */\n",
       "  background-color: var(--sklearn-color-background);\n",
       "}\n",
       "\n",
       "/* Toggleable label */\n",
       "#sk-container-id-2 label.sk-toggleable__label {\n",
       "  cursor: pointer;\n",
       "  display: block;\n",
       "  width: 100%;\n",
       "  margin-bottom: 0;\n",
       "  padding: 0.5em;\n",
       "  box-sizing: border-box;\n",
       "  text-align: center;\n",
       "}\n",
       "\n",
       "#sk-container-id-2 label.sk-toggleable__label-arrow:before {\n",
       "  /* Arrow on the left of the label */\n",
       "  content: \"▸\";\n",
       "  float: left;\n",
       "  margin-right: 0.25em;\n",
       "  color: var(--sklearn-color-icon);\n",
       "}\n",
       "\n",
       "#sk-container-id-2 label.sk-toggleable__label-arrow:hover:before {\n",
       "  color: var(--sklearn-color-text);\n",
       "}\n",
       "\n",
       "/* Toggleable content - dropdown */\n",
       "\n",
       "#sk-container-id-2 div.sk-toggleable__content {\n",
       "  max-height: 0;\n",
       "  max-width: 0;\n",
       "  overflow: hidden;\n",
       "  text-align: left;\n",
       "  /* unfitted */\n",
       "  background-color: var(--sklearn-color-unfitted-level-0);\n",
       "}\n",
       "\n",
       "#sk-container-id-2 div.sk-toggleable__content.fitted {\n",
       "  /* fitted */\n",
       "  background-color: var(--sklearn-color-fitted-level-0);\n",
       "}\n",
       "\n",
       "#sk-container-id-2 div.sk-toggleable__content pre {\n",
       "  margin: 0.2em;\n",
       "  border-radius: 0.25em;\n",
       "  color: var(--sklearn-color-text);\n",
       "  /* unfitted */\n",
       "  background-color: var(--sklearn-color-unfitted-level-0);\n",
       "}\n",
       "\n",
       "#sk-container-id-2 div.sk-toggleable__content.fitted pre {\n",
       "  /* unfitted */\n",
       "  background-color: var(--sklearn-color-fitted-level-0);\n",
       "}\n",
       "\n",
       "#sk-container-id-2 input.sk-toggleable__control:checked~div.sk-toggleable__content {\n",
       "  /* Expand drop-down */\n",
       "  max-height: 200px;\n",
       "  max-width: 100%;\n",
       "  overflow: auto;\n",
       "}\n",
       "\n",
       "#sk-container-id-2 input.sk-toggleable__control:checked~label.sk-toggleable__label-arrow:before {\n",
       "  content: \"▾\";\n",
       "}\n",
       "\n",
       "/* Pipeline/ColumnTransformer-specific style */\n",
       "\n",
       "#sk-container-id-2 div.sk-label input.sk-toggleable__control:checked~label.sk-toggleable__label {\n",
       "  color: var(--sklearn-color-text);\n",
       "  background-color: var(--sklearn-color-unfitted-level-2);\n",
       "}\n",
       "\n",
       "#sk-container-id-2 div.sk-label.fitted input.sk-toggleable__control:checked~label.sk-toggleable__label {\n",
       "  background-color: var(--sklearn-color-fitted-level-2);\n",
       "}\n",
       "\n",
       "/* Estimator-specific style */\n",
       "\n",
       "/* Colorize estimator box */\n",
       "#sk-container-id-2 div.sk-estimator input.sk-toggleable__control:checked~label.sk-toggleable__label {\n",
       "  /* unfitted */\n",
       "  background-color: var(--sklearn-color-unfitted-level-2);\n",
       "}\n",
       "\n",
       "#sk-container-id-2 div.sk-estimator.fitted input.sk-toggleable__control:checked~label.sk-toggleable__label {\n",
       "  /* fitted */\n",
       "  background-color: var(--sklearn-color-fitted-level-2);\n",
       "}\n",
       "\n",
       "#sk-container-id-2 div.sk-label label.sk-toggleable__label,\n",
       "#sk-container-id-2 div.sk-label label {\n",
       "  /* The background is the default theme color */\n",
       "  color: var(--sklearn-color-text-on-default-background);\n",
       "}\n",
       "\n",
       "/* On hover, darken the color of the background */\n",
       "#sk-container-id-2 div.sk-label:hover label.sk-toggleable__label {\n",
       "  color: var(--sklearn-color-text);\n",
       "  background-color: var(--sklearn-color-unfitted-level-2);\n",
       "}\n",
       "\n",
       "/* Label box, darken color on hover, fitted */\n",
       "#sk-container-id-2 div.sk-label.fitted:hover label.sk-toggleable__label.fitted {\n",
       "  color: var(--sklearn-color-text);\n",
       "  background-color: var(--sklearn-color-fitted-level-2);\n",
       "}\n",
       "\n",
       "/* Estimator label */\n",
       "\n",
       "#sk-container-id-2 div.sk-label label {\n",
       "  font-family: monospace;\n",
       "  font-weight: bold;\n",
       "  display: inline-block;\n",
       "  line-height: 1.2em;\n",
       "}\n",
       "\n",
       "#sk-container-id-2 div.sk-label-container {\n",
       "  text-align: center;\n",
       "}\n",
       "\n",
       "/* Estimator-specific */\n",
       "#sk-container-id-2 div.sk-estimator {\n",
       "  font-family: monospace;\n",
       "  border: 1px dotted var(--sklearn-color-border-box);\n",
       "  border-radius: 0.25em;\n",
       "  box-sizing: border-box;\n",
       "  margin-bottom: 0.5em;\n",
       "  /* unfitted */\n",
       "  background-color: var(--sklearn-color-unfitted-level-0);\n",
       "}\n",
       "\n",
       "#sk-container-id-2 div.sk-estimator.fitted {\n",
       "  /* fitted */\n",
       "  background-color: var(--sklearn-color-fitted-level-0);\n",
       "}\n",
       "\n",
       "/* on hover */\n",
       "#sk-container-id-2 div.sk-estimator:hover {\n",
       "  /* unfitted */\n",
       "  background-color: var(--sklearn-color-unfitted-level-2);\n",
       "}\n",
       "\n",
       "#sk-container-id-2 div.sk-estimator.fitted:hover {\n",
       "  /* fitted */\n",
       "  background-color: var(--sklearn-color-fitted-level-2);\n",
       "}\n",
       "\n",
       "/* Specification for estimator info (e.g. \"i\" and \"?\") */\n",
       "\n",
       "/* Common style for \"i\" and \"?\" */\n",
       "\n",
       ".sk-estimator-doc-link,\n",
       "a:link.sk-estimator-doc-link,\n",
       "a:visited.sk-estimator-doc-link {\n",
       "  float: right;\n",
       "  font-size: smaller;\n",
       "  line-height: 1em;\n",
       "  font-family: monospace;\n",
       "  background-color: var(--sklearn-color-background);\n",
       "  border-radius: 1em;\n",
       "  height: 1em;\n",
       "  width: 1em;\n",
       "  text-decoration: none !important;\n",
       "  margin-left: 1ex;\n",
       "  /* unfitted */\n",
       "  border: var(--sklearn-color-unfitted-level-1) 1pt solid;\n",
       "  color: var(--sklearn-color-unfitted-level-1);\n",
       "}\n",
       "\n",
       ".sk-estimator-doc-link.fitted,\n",
       "a:link.sk-estimator-doc-link.fitted,\n",
       "a:visited.sk-estimator-doc-link.fitted {\n",
       "  /* fitted */\n",
       "  border: var(--sklearn-color-fitted-level-1) 1pt solid;\n",
       "  color: var(--sklearn-color-fitted-level-1);\n",
       "}\n",
       "\n",
       "/* On hover */\n",
       "div.sk-estimator:hover .sk-estimator-doc-link:hover,\n",
       ".sk-estimator-doc-link:hover,\n",
       "div.sk-label-container:hover .sk-estimator-doc-link:hover,\n",
       ".sk-estimator-doc-link:hover {\n",
       "  /* unfitted */\n",
       "  background-color: var(--sklearn-color-unfitted-level-3);\n",
       "  color: var(--sklearn-color-background);\n",
       "  text-decoration: none;\n",
       "}\n",
       "\n",
       "div.sk-estimator.fitted:hover .sk-estimator-doc-link.fitted:hover,\n",
       ".sk-estimator-doc-link.fitted:hover,\n",
       "div.sk-label-container:hover .sk-estimator-doc-link.fitted:hover,\n",
       ".sk-estimator-doc-link.fitted:hover {\n",
       "  /* fitted */\n",
       "  background-color: var(--sklearn-color-fitted-level-3);\n",
       "  color: var(--sklearn-color-background);\n",
       "  text-decoration: none;\n",
       "}\n",
       "\n",
       "/* Span, style for the box shown on hovering the info icon */\n",
       ".sk-estimator-doc-link span {\n",
       "  display: none;\n",
       "  z-index: 9999;\n",
       "  position: relative;\n",
       "  font-weight: normal;\n",
       "  right: .2ex;\n",
       "  padding: .5ex;\n",
       "  margin: .5ex;\n",
       "  width: min-content;\n",
       "  min-width: 20ex;\n",
       "  max-width: 50ex;\n",
       "  color: var(--sklearn-color-text);\n",
       "  box-shadow: 2pt 2pt 4pt #999;\n",
       "  /* unfitted */\n",
       "  background: var(--sklearn-color-unfitted-level-0);\n",
       "  border: .5pt solid var(--sklearn-color-unfitted-level-3);\n",
       "}\n",
       "\n",
       ".sk-estimator-doc-link.fitted span {\n",
       "  /* fitted */\n",
       "  background: var(--sklearn-color-fitted-level-0);\n",
       "  border: var(--sklearn-color-fitted-level-3);\n",
       "}\n",
       "\n",
       ".sk-estimator-doc-link:hover span {\n",
       "  display: block;\n",
       "}\n",
       "\n",
       "/* \"?\"-specific style due to the `<a>` HTML tag */\n",
       "\n",
       "#sk-container-id-2 a.estimator_doc_link {\n",
       "  float: right;\n",
       "  font-size: 1rem;\n",
       "  line-height: 1em;\n",
       "  font-family: monospace;\n",
       "  background-color: var(--sklearn-color-background);\n",
       "  border-radius: 1rem;\n",
       "  height: 1rem;\n",
       "  width: 1rem;\n",
       "  text-decoration: none;\n",
       "  /* unfitted */\n",
       "  color: var(--sklearn-color-unfitted-level-1);\n",
       "  border: var(--sklearn-color-unfitted-level-1) 1pt solid;\n",
       "}\n",
       "\n",
       "#sk-container-id-2 a.estimator_doc_link.fitted {\n",
       "  /* fitted */\n",
       "  border: var(--sklearn-color-fitted-level-1) 1pt solid;\n",
       "  color: var(--sklearn-color-fitted-level-1);\n",
       "}\n",
       "\n",
       "/* On hover */\n",
       "#sk-container-id-2 a.estimator_doc_link:hover {\n",
       "  /* unfitted */\n",
       "  background-color: var(--sklearn-color-unfitted-level-3);\n",
       "  color: var(--sklearn-color-background);\n",
       "  text-decoration: none;\n",
       "}\n",
       "\n",
       "#sk-container-id-2 a.estimator_doc_link.fitted:hover {\n",
       "  /* fitted */\n",
       "  background-color: var(--sklearn-color-fitted-level-3);\n",
       "}\n",
       "</style><div id=\"sk-container-id-2\" class=\"sk-top-container\"><div class=\"sk-text-repr-fallback\"><pre>Pipeline(steps=[(&#x27;preprocessor&#x27;,\n",
       "                 OneHotEncoder(drop=&#x27;first&#x27;, handle_unknown=&#x27;ignore&#x27;)),\n",
       "                (&#x27;models&#x27;, DummyRegressor())])</pre><b>In a Jupyter environment, please rerun this cell to show the HTML representation or trust the notebook. <br />On GitHub, the HTML representation is unable to render, please try loading this page with nbviewer.org.</b></div><div class=\"sk-container\" hidden><div class=\"sk-item sk-dashed-wrapped\"><div class=\"sk-label-container\"><div class=\"sk-label fitted sk-toggleable\"><input class=\"sk-toggleable__control sk-hidden--visually\" id=\"sk-estimator-id-4\" type=\"checkbox\" ><label for=\"sk-estimator-id-4\" class=\"sk-toggleable__label fitted sk-toggleable__label-arrow fitted\">&nbsp;&nbsp;Pipeline<a class=\"sk-estimator-doc-link fitted\" rel=\"noreferrer\" target=\"_blank\" href=\"https://scikit-learn.org/1.4/modules/generated/sklearn.pipeline.Pipeline.html\">?<span>Documentation for Pipeline</span></a><span class=\"sk-estimator-doc-link fitted\">i<span>Fitted</span></span></label><div class=\"sk-toggleable__content fitted\"><pre>Pipeline(steps=[(&#x27;preprocessor&#x27;,\n",
       "                 OneHotEncoder(drop=&#x27;first&#x27;, handle_unknown=&#x27;ignore&#x27;)),\n",
       "                (&#x27;models&#x27;, DummyRegressor())])</pre></div> </div></div><div class=\"sk-serial\"><div class=\"sk-item\"><div class=\"sk-estimator fitted sk-toggleable\"><input class=\"sk-toggleable__control sk-hidden--visually\" id=\"sk-estimator-id-5\" type=\"checkbox\" ><label for=\"sk-estimator-id-5\" class=\"sk-toggleable__label fitted sk-toggleable__label-arrow fitted\">&nbsp;OneHotEncoder<a class=\"sk-estimator-doc-link fitted\" rel=\"noreferrer\" target=\"_blank\" href=\"https://scikit-learn.org/1.4/modules/generated/sklearn.preprocessing.OneHotEncoder.html\">?<span>Documentation for OneHotEncoder</span></a></label><div class=\"sk-toggleable__content fitted\"><pre>OneHotEncoder(drop=&#x27;first&#x27;, handle_unknown=&#x27;ignore&#x27;)</pre></div> </div></div><div class=\"sk-item\"><div class=\"sk-estimator fitted sk-toggleable\"><input class=\"sk-toggleable__control sk-hidden--visually\" id=\"sk-estimator-id-6\" type=\"checkbox\" ><label for=\"sk-estimator-id-6\" class=\"sk-toggleable__label fitted sk-toggleable__label-arrow fitted\">&nbsp;DummyRegressor<a class=\"sk-estimator-doc-link fitted\" rel=\"noreferrer\" target=\"_blank\" href=\"https://scikit-learn.org/1.4/modules/generated/sklearn.dummy.DummyRegressor.html\">?<span>Documentation for DummyRegressor</span></a></label><div class=\"sk-toggleable__content fitted\"><pre>DummyRegressor()</pre></div> </div></div></div></div></div></div>"
      ],
      "text/plain": [
       "Pipeline(steps=[('preprocessor',\n",
       "                 OneHotEncoder(drop='first', handle_unknown='ignore')),\n",
       "                ('models', DummyRegressor())])"
      ]
     },
     "execution_count": 133,
     "metadata": {},
     "output_type": "execute_result"
    }
   ],
   "source": [
    "pipe_dummy = Pipeline(\n",
    "    [\n",
    "        ('preprocessor', OneHotEncoder(drop='first', handle_unknown='ignore')),\n",
    "        ('models', DummyRegressor(strategy='mean'))\n",
    "    ]\n",
    ")\n",
    "pipe_dummy.fit(X_train, y_train)"
   ]
  },
  {
   "cell_type": "code",
   "execution_count": 134,
   "metadata": {},
   "outputs": [
    {
     "name": "stderr",
     "output_type": "stream",
     "text": [
      "c:\\Users\\very-\\AppData\\Local\\Programs\\Python\\Python39\\lib\\site-packages\\sklearn\\preprocessing\\_encoders.py:241: UserWarning: Found unknown categories in columns [2, 4] during transform. These unknown categories will be encoded as all zeros\n",
      "  warnings.warn(\n",
      "c:\\Users\\very-\\AppData\\Local\\Programs\\Python\\Python39\\lib\\site-packages\\sklearn\\preprocessing\\_encoders.py:241: UserWarning: Found unknown categories in columns [2, 4] during transform. These unknown categories will be encoded as all zeros\n",
      "  warnings.warn(\n",
      "c:\\Users\\very-\\AppData\\Local\\Programs\\Python\\Python39\\lib\\site-packages\\sklearn\\preprocessing\\_encoders.py:241: UserWarning: Found unknown categories in columns [2, 4] during transform. These unknown categories will be encoded as all zeros\n",
      "  warnings.warn(\n",
      "c:\\Users\\very-\\AppData\\Local\\Programs\\Python\\Python39\\lib\\site-packages\\sklearn\\preprocessing\\_encoders.py:241: UserWarning: Found unknown categories in columns [2, 4] during transform. These unknown categories will be encoded as all zeros\n",
      "  warnings.warn(\n"
     ]
    },
    {
     "name": "stdout",
     "output_type": "stream",
     "text": [
      "Dummy model MAE: 6395.046076399706\n",
      "Dummy model MAPE: 1.0327577818829656\n",
      "Dummy model R2: -2.556325761893241e-05\n",
      "Dummy model RMSE: 7854.432285549109\n"
     ]
    }
   ],
   "source": [
    "def regression_metrics(y_test, X_test,regressor):\n",
    "    mae = mean_absolute_error(y_test,regressor.predict(X_test))\n",
    "    mape = mean_absolute_percentage_error(y_test,regressor.predict(X_test))\n",
    "    r2 = r2_score(y_test,regressor.predict(X_test))\n",
    "    rmse = root_mean_squared_error(y_test,regressor.predict(X_test))\n",
    "    return mae, mape, r2, rmse\n",
    "\n",
    "mae, mape, r2, rmse = regression_metrics(y_test, X_test,pipe_dummy)\n",
    "print(f'Dummy model MAE: {mae}')\n",
    "print(f'Dummy model MAPE: {mape}')\n",
    "print(f'Dummy model R2: {r2}')\n",
    "print(f'Dummy model RMSE: {rmse}')"
   ]
  },
  {
   "cell_type": "markdown",
   "metadata": {},
   "source": [
    "### Catboost"
   ]
  },
  {
   "cell_type": "code",
   "execution_count": 135,
   "metadata": {},
   "outputs": [],
   "source": [
    "model = CatBoostRegressor(cat_features = list(X_train.columns), \n",
    "                          iterations=100,\n",
    "                          depth=3,\n",
    "                          silent=True,\n",
    "                          learning_rate=0.1,\n",
    "                          loss_function='RMSE', random_state=RANDOM_STATE)\n"
   ]
  },
  {
   "cell_type": "code",
   "execution_count": 136,
   "metadata": {},
   "outputs": [],
   "source": [
    "scoring = {'neg_mae':\"neg_mean_absolute_error\", \n",
    "           'neg_mape':\"neg_mean_absolute_percentage_error\", \n",
    "           'r2':\"r2\", \n",
    "           \"neg_rmse\":\"neg_root_mean_squared_error\"}\n",
    "cv_catb =cross_validate(model, X_train, y_train, scoring=scoring)"
   ]
  },
  {
   "cell_type": "code",
   "execution_count": 137,
   "metadata": {},
   "outputs": [
    {
     "name": "stdout",
     "output_type": "stream",
     "text": [
      "MAE при кроссвалидации равна 2245.845369108113\n",
      "MAPE при кроссвалидации равна 0.2449263743226003\n",
      "R2 при кроссвалидации равна 0.8409709105822089\n",
      "RMSE при кроссвалидации равна 3118.1714239183852\n"
     ]
    }
   ],
   "source": [
    "print(f'MAE при кроссвалидации равна {abs(cv_catb[\"test_neg_mae\"].mean())}')\n",
    "print(f'MAPE при кроссвалидации равна {abs(cv_catb[\"test_neg_mape\"].mean())}')\n",
    "print(f'R2 при кроссвалидации равна {abs(cv_catb[\"test_r2\"].mean())}')\n",
    "print(f'RMSE при кроссвалидации равна {abs(cv_catb[\"test_neg_rmse\"].mean())}')"
   ]
  },
  {
   "cell_type": "markdown",
   "metadata": {},
   "source": [
    "Наша модель лучше, чем константная, значит она неплохая и полезная для предсказания стоимости авто по харакетристикам внутри вин-кода.\n",
    "\n",
    "Посмотрим качество на тестовой выборке:"
   ]
  },
  {
   "cell_type": "code",
   "execution_count": 138,
   "metadata": {},
   "outputs": [
    {
     "name": "stdout",
     "output_type": "stream",
     "text": [
      "Метрики на тестовой выборке:\n",
      "MAE: 2279.033449860695\n",
      "MAPE: 0.24717360063886365\n",
      "R2: 0.8373537853484491\n",
      "RMSE: 3167.6065263620126\n"
     ]
    }
   ],
   "source": [
    "model.fit(X_train, y_train)\n",
    "mae, mape, r2, rmse = regression_metrics(y_test, X_test,model)\n",
    "print(f'Метрики на тестовой выборке:')\n",
    "print(f'MAE: {mae}')\n",
    "print(f'MAPE: {mape}')\n",
    "print(f'R2: {r2}')\n",
    "print(f'RMSE: {rmse}')"
   ]
  },
  {
   "cell_type": "code",
   "execution_count": 139,
   "metadata": {},
   "outputs": [],
   "source": [
    "#сохраним модель\n",
    "with open('model.pkl','wb') as f:\n",
    "    pickle.dump(model,f)"
   ]
  },
  {
   "cell_type": "markdown",
   "metadata": {},
   "source": [
    "## Вывод:\n",
    "Для прогнозирования стоимости автомобиля по извлеченным из вин-кода признакам (кроме серийного номера и check digit) обучили градиентный бустинг Catboost (100 итераций, глубина деревьев - 3, скорость обучения - 0.1). Получили адекватное качество (лучше чем у константной модели).\n",
    "\n",
    "Метрики на тестовой выборке:\n",
    "- MAE: 2279\n",
    "- MAPE: 0.25\n",
    "- R2: 0.84\n",
    "- RMSE: 3168"
   ]
  },
  {
   "cell_type": "markdown",
   "metadata": {},
   "source": [
    "# 5. Анализ важности признаков"
   ]
  },
  {
   "cell_type": "code",
   "execution_count": 140,
   "metadata": {},
   "outputs": [],
   "source": [
    "result = permutation_importance(\n",
    "    model, X_test, y_test, n_repeats=10, random_state=RANDOM_STATE)\n",
    "catboost_importances = pd.Series(result.importances_mean, index=X_train.columns).sort_values(ascending=False)"
   ]
  },
  {
   "cell_type": "code",
   "execution_count": 141,
   "metadata": {},
   "outputs": [
    {
     "data": {
      "image/png": "[encoded data removed]",
      "text/plain": [
       "<Figure size 432x288 with 1 Axes>"
      ]
     },
     "metadata": {
      "needs_background": "light"
     },
     "output_type": "display_data"
    }
   ],
   "source": [
    "fig = plt.Figure()\n",
    "sns.barplot(catboost_importances)\n",
    "plt.title(\"Важность признаков\")\n",
    "plt.ylabel(\"Среднее ухуджение RMSE\")\n",
    "fig.tight_layout()\n",
    "plt.show()"
   ]
  },
  {
   "cell_type": "markdown",
   "metadata": {},
   "source": [
    "### Вывод:\n",
    "Наиболее важными признаками, которые влияют на предсказание цены, являются год производства и модель авто.\n",
    "\n",
    "## 6. Декодирование вин-кодов и создание класса для предоставлния инфо об авто и прогнозирования цены \n",
    "\n",
    "Чтобы декодировать вин-коды, нужно достать инфо из табличек https://en.wikibooks.org/wiki/Vehicle_Identification_Numbers_(VIN_codes)/Printable_version#Model# "
   ]
  },
  {
   "cell_type": "code",
   "execution_count": 144,
   "metadata": {},
   "outputs": [],
   "source": [
    "with open(r'parsed_wiki_tables\\year.txt', 'r', encoding='utf-8') as file:\n",
    "    year_table = file.read()\n",
    "\n",
    "with open(r'parsed_wiki_tables\\wmi.txt', 'r', encoding='utf-8') as file:\n",
    "    wmi_table = file.read()\n",
    "\n",
    "with open(r'parsed_wiki_tables\\brakes.txt', 'r', encoding='utf-8') as file:\n",
    "    brakes_table = file.read()\n",
    "\n",
    "with open(r'parsed_wiki_tables\\restraints.txt', 'r', encoding='utf-8') as file:\n",
    "    restraints_table = file.read()\n",
    "\n",
    "with open(r'parsed_wiki_tables\\models_1.txt', 'r', encoding='utf-8') as file:\n",
    "    models_table_1 = file.read()\n",
    "\n",
    "with open(r'parsed_wiki_tables\\models_2.txt', 'r', encoding='utf-8') as file:\n",
    "    models_table_2 = file.read()\n",
    "\n",
    "with open(r'parsed_wiki_tables\\engine.txt', 'r', encoding='utf-8') as file:\n",
    "    engine_table = file.read()"
   ]
  },
  {
   "cell_type": "code",
   "execution_count": 145,
   "metadata": {},
   "outputs": [
    {
     "data": {
      "text/plain": [
       "'A\\t1980, 2010\\nB\\t1981, 2011\\nC\\t1982, 2012\\nD\\t1983, 2013\\nE\\t1984, 2014\\nF\\t1985, 2015\\nG\\t1986, 2016\\nH\\t1987, 2017\\nJ\\t1988, 2018\\nK\\t1989, 2019\\nL\\t1990, 2020\\nM\\t1991, 2021\\nN\\t1992, 2022\\nP\\t1993, 2023\\nR\\t1994, 2024\\nS\\t1995, 2025\\nT\\t1996, 2026\\nV\\t1997, 2027\\nW\\t1998, 2028\\nX\\t1999, 2029\\nY\\t2000, 2030\\n1\\t2001, 2031\\n2\\t2002, 2032\\n3\\t2003, 2033\\n4\\t2004, 2034\\n5\\t2005, 2035\\n6\\t2006, 2036\\n7\\t2007, 2037\\n8\\t2008, 2038\\n9\\t2009, 2039'"
      ]
     },
     "execution_count": 145,
     "metadata": {},
     "output_type": "execute_result"
    }
   ],
   "source": [
    "year_table"
   ]
  },
  {
   "cell_type": "code",
   "execution_count": 146,
   "metadata": {},
   "outputs": [
    {
     "data": {
      "text/html": [
       "<div>\n",
       "<style scoped>\n",
       "    .dataframe tbody tr th:only-of-type {\n",
       "        vertical-align: middle;\n",
       "    }\n",
       "\n",
       "    .dataframe tbody tr th {\n",
       "        vertical-align: top;\n",
       "    }\n",
       "\n",
       "    .dataframe thead th {\n",
       "        text-align: right;\n",
       "    }\n",
       "</style>\n",
       "<table border=\"1\" class=\"dataframe\">\n",
       "  <thead>\n",
       "    <tr style=\"text-align: right;\">\n",
       "      <th></th>\n",
       "      <th>vin</th>\n",
       "      <th>year</th>\n",
       "      <th>second_year</th>\n",
       "    </tr>\n",
       "  </thead>\n",
       "  <tbody>\n",
       "    <tr>\n",
       "      <th>9</th>\n",
       "      <td>K</td>\n",
       "      <td>1989</td>\n",
       "      <td>2019</td>\n",
       "    </tr>\n",
       "    <tr>\n",
       "      <th>20</th>\n",
       "      <td>Y</td>\n",
       "      <td>2000</td>\n",
       "      <td>2030</td>\n",
       "    </tr>\n",
       "    <tr>\n",
       "      <th>3</th>\n",
       "      <td>D</td>\n",
       "      <td>1983</td>\n",
       "      <td>2013</td>\n",
       "    </tr>\n",
       "    <tr>\n",
       "      <th>11</th>\n",
       "      <td>M</td>\n",
       "      <td>1991</td>\n",
       "      <td>2021</td>\n",
       "    </tr>\n",
       "    <tr>\n",
       "      <th>2</th>\n",
       "      <td>C</td>\n",
       "      <td>1982</td>\n",
       "      <td>2012</td>\n",
       "    </tr>\n",
       "  </tbody>\n",
       "</table>\n",
       "</div>"
      ],
      "text/plain": [
       "   vin  year second_year\n",
       "9    K  1989        2019\n",
       "20   Y  2000        2030\n",
       "3    D  1983        2013\n",
       "11   M  1991        2021\n",
       "2    C  1982        2012"
      ]
     },
     "execution_count": 146,
     "metadata": {},
     "output_type": "execute_result"
    }
   ],
   "source": [
    "pattern = r'(?P<vin>[A-Z])\\t(?P<year>\\d{4}),\\s(?P<second_year>\\d{4})'\n",
    "compiled_pattern = re.compile(pattern)\n",
    "year = pd.DataFrame([x.groupdict() for x in compiled_pattern.finditer(year_table)])\n",
    "year.sample(5)"
   ]
  },
  {
   "cell_type": "code",
   "execution_count": 147,
   "metadata": {},
   "outputs": [
    {
     "name": "stderr",
     "output_type": "stream",
     "text": [
      "C:\\Users\\very-\\AppData\\Local\\Temp\\ipykernel_15964\\1055003168.py:1: FutureWarning: Passing literal html to 'read_html' is deprecated and will be removed in a future version. To read from a literal string, wrap it in a 'StringIO' object.\n",
      "  wmi = pd.read_html(wmi_table)[0]\n",
      "C:\\Users\\very-\\AppData\\Local\\Temp\\ipykernel_15964\\1055003168.py:2: FutureWarning: Passing literal html to 'read_html' is deprecated and will be removed in a future version. To read from a literal string, wrap it in a 'StringIO' object.\n",
      "  brakes = pd.read_html(brakes_table)[0]\n",
      "C:\\Users\\very-\\AppData\\Local\\Temp\\ipykernel_15964\\1055003168.py:3: FutureWarning: Passing literal html to 'read_html' is deprecated and will be removed in a future version. To read from a literal string, wrap it in a 'StringIO' object.\n",
      "  restraints = pd.read_html(restraints_table)[0]\n",
      "C:\\Users\\very-\\AppData\\Local\\Temp\\ipykernel_15964\\1055003168.py:4: FutureWarning: Passing literal html to 'read_html' is deprecated and will be removed in a future version. To read from a literal string, wrap it in a 'StringIO' object.\n",
      "  engine = pd.read_html(engine_table)[0]\n"
     ]
    }
   ],
   "source": [
    "wmi = pd.read_html(wmi_table)[0]\n",
    "brakes = pd.read_html(brakes_table)[0]\n",
    "restraints = pd.read_html(restraints_table)[0]\n",
    "engine = pd.read_html(engine_table)[0]"
   ]
  },
  {
   "cell_type": "code",
   "execution_count": 148,
   "metadata": {},
   "outputs": [
    {
     "data": {
      "text/html": [
       "<div>\n",
       "<style scoped>\n",
       "    .dataframe tbody tr th:only-of-type {\n",
       "        vertical-align: middle;\n",
       "    }\n",
       "\n",
       "    .dataframe tbody tr th {\n",
       "        vertical-align: top;\n",
       "    }\n",
       "\n",
       "    .dataframe thead th {\n",
       "        text-align: right;\n",
       "    }\n",
       "</style>\n",
       "<table border=\"1\" class=\"dataframe\">\n",
       "  <thead>\n",
       "    <tr style=\"text-align: right;\">\n",
       "      <th></th>\n",
       "      <th>WMI</th>\n",
       "      <th>Country</th>\n",
       "      <th>Description</th>\n",
       "      <th>Vehicle types</th>\n",
       "    </tr>\n",
       "  </thead>\n",
       "  <tbody>\n",
       "    <tr>\n",
       "      <th>33</th>\n",
       "      <td>1FD</td>\n",
       "      <td>USA</td>\n",
       "      <td>Ford Motor Company</td>\n",
       "      <td>Ford incomplete vehicle</td>\n",
       "    </tr>\n",
       "    <tr>\n",
       "      <th>3</th>\n",
       "      <td>KNJ</td>\n",
       "      <td>South Korea</td>\n",
       "      <td>Ford (made by Kia)</td>\n",
       "      <td>NaN</td>\n",
       "    </tr>\n",
       "    <tr>\n",
       "      <th>66</th>\n",
       "      <td>3FR</td>\n",
       "      <td>Mexico</td>\n",
       "      <td>Blue Diamond Trucks S. De R. L. De C. V.</td>\n",
       "      <td>Ford incomplete vehicle</td>\n",
       "    </tr>\n",
       "    <tr>\n",
       "      <th>39</th>\n",
       "      <td>1ME</td>\n",
       "      <td>USA</td>\n",
       "      <td>Ford Motor Company</td>\n",
       "      <td>Mercury passenger car</td>\n",
       "    </tr>\n",
       "    <tr>\n",
       "      <th>26</th>\n",
       "      <td>Z6F</td>\n",
       "      <td>Russia</td>\n",
       "      <td>Ford Sollers</td>\n",
       "      <td>NaN</td>\n",
       "    </tr>\n",
       "  </tbody>\n",
       "</table>\n",
       "</div>"
      ],
      "text/plain": [
       "    WMI      Country                               Description  \\\n",
       "33  1FD          USA                        Ford Motor Company   \n",
       "3   KNJ  South Korea                        Ford (made by Kia)   \n",
       "66  3FR       Mexico  Blue Diamond Trucks S. De R. L. De C. V.   \n",
       "39  1ME          USA                        Ford Motor Company   \n",
       "26  Z6F       Russia                              Ford Sollers   \n",
       "\n",
       "              Vehicle types  \n",
       "33  Ford incomplete vehicle  \n",
       "3                       NaN  \n",
       "66  Ford incomplete vehicle  \n",
       "39    Mercury passenger car  \n",
       "26                      NaN  "
      ]
     },
     "execution_count": 148,
     "metadata": {},
     "output_type": "execute_result"
    }
   ],
   "source": [
    "wmi.sample(5)"
   ]
  },
  {
   "cell_type": "code",
   "execution_count": 149,
   "metadata": {},
   "outputs": [
    {
     "data": {
      "text/html": [
       "<div>\n",
       "<style scoped>\n",
       "    .dataframe tbody tr th:only-of-type {\n",
       "        vertical-align: middle;\n",
       "    }\n",
       "\n",
       "    .dataframe tbody tr th {\n",
       "        vertical-align: top;\n",
       "    }\n",
       "\n",
       "    .dataframe thead th {\n",
       "        text-align: right;\n",
       "    }\n",
       "</style>\n",
       "<table border=\"1\" class=\"dataframe\">\n",
       "  <thead>\n",
       "    <tr style=\"text-align: right;\">\n",
       "      <th></th>\n",
       "      <th>VIN  Code</th>\n",
       "      <th>GVWR Range in lbs.</th>\n",
       "      <th>Brake System</th>\n",
       "    </tr>\n",
       "  </thead>\n",
       "  <tbody>\n",
       "    <tr>\n",
       "      <th>20</th>\n",
       "      <td>X</td>\n",
       "      <td>26,001 – 33,000</td>\n",
       "      <td>Air</td>\n",
       "    </tr>\n",
       "    <tr>\n",
       "      <th>18</th>\n",
       "      <td>V</td>\n",
       "      <td>16,001 – 19,500</td>\n",
       "      <td>Air</td>\n",
       "    </tr>\n",
       "    <tr>\n",
       "      <th>19</th>\n",
       "      <td>W</td>\n",
       "      <td>19,501 – 26,000</td>\n",
       "      <td>Air</td>\n",
       "    </tr>\n",
       "    <tr>\n",
       "      <th>13</th>\n",
       "      <td>P</td>\n",
       "      <td>26,001 – 33,000</td>\n",
       "      <td>Hydraulic</td>\n",
       "    </tr>\n",
       "    <tr>\n",
       "      <th>4</th>\n",
       "      <td>E</td>\n",
       "      <td>6,001 – 7,000</td>\n",
       "      <td>Hydraulic</td>\n",
       "    </tr>\n",
       "  </tbody>\n",
       "</table>\n",
       "</div>"
      ],
      "text/plain": [
       "   VIN  Code GVWR Range in lbs. Brake System\n",
       "20         X    26,001 – 33,000          Air\n",
       "18         V    16,001 – 19,500          Air\n",
       "19         W    19,501 – 26,000          Air\n",
       "13         P    26,001 – 33,000    Hydraulic\n",
       "4          E      6,001 – 7,000    Hydraulic"
      ]
     },
     "execution_count": 149,
     "metadata": {},
     "output_type": "execute_result"
    }
   ],
   "source": [
    "brakes.sample(5)"
   ]
  },
  {
   "cell_type": "code",
   "execution_count": 150,
   "metadata": {},
   "outputs": [
    {
     "data": {
      "text/html": [
       "<div>\n",
       "<style scoped>\n",
       "    .dataframe tbody tr th:only-of-type {\n",
       "        vertical-align: middle;\n",
       "    }\n",
       "\n",
       "    .dataframe tbody tr th {\n",
       "        vertical-align: top;\n",
       "    }\n",
       "\n",
       "    .dataframe thead th {\n",
       "        text-align: right;\n",
       "    }\n",
       "</style>\n",
       "<table border=\"1\" class=\"dataframe\">\n",
       "  <thead>\n",
       "    <tr style=\"text-align: right;\">\n",
       "      <th></th>\n",
       "      <th>VIN code</th>\n",
       "      <th>Description</th>\n",
       "    </tr>\n",
       "  </thead>\n",
       "  <tbody>\n",
       "    <tr>\n",
       "      <th>12</th>\n",
       "      <td>G</td>\n",
       "      <td>Active Belts plus Driver and Passenger Front A...</td>\n",
       "    </tr>\n",
       "    <tr>\n",
       "      <th>6</th>\n",
       "      <td>K</td>\n",
       "      <td>Active Belts and Driver and Passenger (Second ...</td>\n",
       "    </tr>\n",
       "    <tr>\n",
       "      <th>4</th>\n",
       "      <td>L</td>\n",
       "      <td>Active Belts and Driver and Passenger (First G...</td>\n",
       "    </tr>\n",
       "    <tr>\n",
       "      <th>3</th>\n",
       "      <td>A</td>\n",
       "      <td>Active (Manual) Belt (Driver) &amp; Passive (Motor...</td>\n",
       "    </tr>\n",
       "    <tr>\n",
       "      <th>1</th>\n",
       "      <td>P</td>\n",
       "      <td>Passive belts (Motorized)</td>\n",
       "    </tr>\n",
       "  </tbody>\n",
       "</table>\n",
       "</div>"
      ],
      "text/plain": [
       "   VIN code                                        Description\n",
       "12        G  Active Belts plus Driver and Passenger Front A...\n",
       "6         K  Active Belts and Driver and Passenger (Second ...\n",
       "4         L  Active Belts and Driver and Passenger (First G...\n",
       "3         A  Active (Manual) Belt (Driver) & Passive (Motor...\n",
       "1         P                          Passive belts (Motorized)"
      ]
     },
     "execution_count": 150,
     "metadata": {},
     "output_type": "execute_result"
    }
   ],
   "source": [
    "restraints.sample(5)"
   ]
  },
  {
   "cell_type": "code",
   "execution_count": 151,
   "metadata": {},
   "outputs": [
    {
     "data": {
      "text/html": [
       "<div>\n",
       "<style scoped>\n",
       "    .dataframe tbody tr th:only-of-type {\n",
       "        vertical-align: middle;\n",
       "    }\n",
       "\n",
       "    .dataframe tbody tr th {\n",
       "        vertical-align: top;\n",
       "    }\n",
       "\n",
       "    .dataframe thead th {\n",
       "        text-align: right;\n",
       "    }\n",
       "</style>\n",
       "<table border=\"1\" class=\"dataframe\">\n",
       "  <thead>\n",
       "    <tr style=\"text-align: right;\">\n",
       "      <th></th>\n",
       "      <th>Configuration</th>\n",
       "      <th>Name</th>\n",
       "      <th>Displacement</th>\n",
       "      <th>Description</th>\n",
       "      <th>Fuel</th>\n",
       "      <th>Power (hp)</th>\n",
       "      <th>Power (kW)</th>\n",
       "      <th>VIN code</th>\n",
       "      <th>Notes/Applications</th>\n",
       "    </tr>\n",
       "  </thead>\n",
       "  <tbody>\n",
       "    <tr>\n",
       "      <th>52</th>\n",
       "      <td>I4</td>\n",
       "      <td>2.3 L EcoBoost</td>\n",
       "      <td>2.3L</td>\n",
       "      <td>DOHC 16V DI Turbo</td>\n",
       "      <td>Gasoline</td>\n",
       "      <td>310-315-330-350</td>\n",
       "      <td>228-232-243-257</td>\n",
       "      <td>H</td>\n",
       "      <td>Ford Mustang EcoBoost 6th gen. ('15-'23), Ford...</td>\n",
       "    </tr>\n",
       "    <tr>\n",
       "      <th>40</th>\n",
       "      <td>I4</td>\n",
       "      <td>Zeta</td>\n",
       "      <td>2.0L</td>\n",
       "      <td>DOHC 16V Intake VCT</td>\n",
       "      <td>Gasoline</td>\n",
       "      <td>170</td>\n",
       "      <td>125</td>\n",
       "      <td>5</td>\n",
       "      <td>Ford Focus SVT ('02-'04)</td>\n",
       "    </tr>\n",
       "    <tr>\n",
       "      <th>94</th>\n",
       "      <td>V8</td>\n",
       "      <td>Windsor</td>\n",
       "      <td>\"5.0\" (4.9L)</td>\n",
       "      <td>OHV CFI</td>\n",
       "      <td>Gasoline</td>\n",
       "      <td>130-134-140-145-155-180</td>\n",
       "      <td>96-99-103-107-114-132</td>\n",
       "      <td>F</td>\n",
       "      <td>Thunderbird, Mercury Cougar, LTD Crown Victori...</td>\n",
       "    </tr>\n",
       "    <tr>\n",
       "      <th>44</th>\n",
       "      <td>I4</td>\n",
       "      <td>Duratec 20</td>\n",
       "      <td>2.0 L</td>\n",
       "      <td>DOHC 16V Intake VCT Atkinson Cycle</td>\n",
       "      <td>Gasoline-Electric Hybrid</td>\n",
       "      <td>141 (gas) + 118 (electric) = 188 (combined)</td>\n",
       "      <td>104 (gas) + 88 (electric) = 138 (combined)</td>\n",
       "      <td>U</td>\n",
       "      <td>Ford C-Max Hybrid ('13-'18), Ford Fusion Hybri...</td>\n",
       "    </tr>\n",
       "    <tr>\n",
       "      <th>49</th>\n",
       "      <td>I4</td>\n",
       "      <td>Duratec 25</td>\n",
       "      <td>2.5L</td>\n",
       "      <td>DOHC 16V Intake VCT Atkinson Cycle</td>\n",
       "      <td>Gasoline-Electric Hybrid</td>\n",
       "      <td>156 (gas) + 106 (electric) = 191 (combined)</td>\n",
       "      <td>115 (gas) + 78 (electric) = 141 (combined)</td>\n",
       "      <td>3</td>\n",
       "      <td>Ford Fusion Hybrid ('10-'12),  Mercury Milan H...</td>\n",
       "    </tr>\n",
       "  </tbody>\n",
       "</table>\n",
       "</div>"
      ],
      "text/plain": [
       "   Configuration            Name  Displacement  \\\n",
       "52            I4  2.3 L EcoBoost          2.3L   \n",
       "40            I4            Zeta          2.0L   \n",
       "94            V8         Windsor  \"5.0\" (4.9L)   \n",
       "44            I4      Duratec 20         2.0 L   \n",
       "49            I4      Duratec 25          2.5L   \n",
       "\n",
       "                           Description                      Fuel  \\\n",
       "52                   DOHC 16V DI Turbo                  Gasoline   \n",
       "40                 DOHC 16V Intake VCT                  Gasoline   \n",
       "94                             OHV CFI                  Gasoline   \n",
       "44  DOHC 16V Intake VCT Atkinson Cycle  Gasoline-Electric Hybrid   \n",
       "49  DOHC 16V Intake VCT Atkinson Cycle  Gasoline-Electric Hybrid   \n",
       "\n",
       "                                     Power (hp)  \\\n",
       "52                              310-315-330-350   \n",
       "40                                          170   \n",
       "94                      130-134-140-145-155-180   \n",
       "44  141 (gas) + 118 (electric) = 188 (combined)   \n",
       "49  156 (gas) + 106 (electric) = 191 (combined)   \n",
       "\n",
       "                                    Power (kW) VIN code  \\\n",
       "52                             228-232-243-257        H   \n",
       "40                                         125        5   \n",
       "94                       96-99-103-107-114-132        F   \n",
       "44  104 (gas) + 88 (electric) = 138 (combined)        U   \n",
       "49  115 (gas) + 78 (electric) = 141 (combined)        3   \n",
       "\n",
       "                                   Notes/Applications  \n",
       "52  Ford Mustang EcoBoost 6th gen. ('15-'23), Ford...  \n",
       "40                           Ford Focus SVT ('02-'04)  \n",
       "94  Thunderbird, Mercury Cougar, LTD Crown Victori...  \n",
       "44  Ford C-Max Hybrid ('13-'18), Ford Fusion Hybri...  \n",
       "49  Ford Fusion Hybrid ('10-'12),  Mercury Milan H...  "
      ]
     },
     "execution_count": 151,
     "metadata": {},
     "output_type": "execute_result"
    }
   ],
   "source": [
    "engine.sample(5)"
   ]
  },
  {
   "cell_type": "code",
   "execution_count": 152,
   "metadata": {},
   "outputs": [
    {
     "data": {
      "text/html": [
       "<div>\n",
       "<style scoped>\n",
       "    .dataframe tbody tr th:only-of-type {\n",
       "        vertical-align: middle;\n",
       "    }\n",
       "\n",
       "    .dataframe tbody tr th {\n",
       "        vertical-align: top;\n",
       "    }\n",
       "\n",
       "    .dataframe thead th {\n",
       "        text-align: right;\n",
       "    }\n",
       "</style>\n",
       "<table border=\"1\" class=\"dataframe\">\n",
       "  <thead>\n",
       "    <tr style=\"text-align: right;\">\n",
       "      <th></th>\n",
       "      <th>VIN code</th>\n",
       "      <th>Power (hp)</th>\n",
       "      <th>Fuel</th>\n",
       "    </tr>\n",
       "  </thead>\n",
       "  <tbody>\n",
       "    <tr>\n",
       "      <th>28</th>\n",
       "      <td>H</td>\n",
       "      <td>52</td>\n",
       "      <td>Diesel</td>\n",
       "    </tr>\n",
       "    <tr>\n",
       "      <th>12</th>\n",
       "      <td>2</td>\n",
       "      <td>65-70</td>\n",
       "      <td>Gasoline</td>\n",
       "    </tr>\n",
       "    <tr>\n",
       "      <th>35</th>\n",
       "      <td>C</td>\n",
       "      <td>110</td>\n",
       "      <td>Gasoline</td>\n",
       "    </tr>\n",
       "    <tr>\n",
       "      <th>36</th>\n",
       "      <td>L</td>\n",
       "      <td>145</td>\n",
       "      <td>Gasoline</td>\n",
       "    </tr>\n",
       "    <tr>\n",
       "      <th>116</th>\n",
       "      <td>S</td>\n",
       "      <td>540</td>\n",
       "      <td>Gasoline</td>\n",
       "    </tr>\n",
       "  </tbody>\n",
       "</table>\n",
       "</div>"
      ],
      "text/plain": [
       "    VIN code Power (hp)      Fuel\n",
       "28         H         52    Diesel\n",
       "12         2      65-70  Gasoline\n",
       "35         C        110  Gasoline\n",
       "36         L        145  Gasoline\n",
       "116        S        540  Gasoline"
      ]
     },
     "execution_count": 152,
     "metadata": {},
     "output_type": "execute_result"
    }
   ],
   "source": [
    "engine = engine[['VIN code', 'Power (hp)', 'Fuel', ]]\n",
    "\n",
    "engine.sample(5)"
   ]
  },
  {
   "cell_type": "code",
   "execution_count": 153,
   "metadata": {},
   "outputs": [],
   "source": [
    "models_1 = pd.read_html(StringIO(models_table_1))[0]"
   ]
  },
  {
   "cell_type": "code",
   "execution_count": 154,
   "metadata": {},
   "outputs": [
    {
     "data": {
      "text/html": [
       "<div>\n",
       "<style scoped>\n",
       "    .dataframe tbody tr th:only-of-type {\n",
       "        vertical-align: middle;\n",
       "    }\n",
       "\n",
       "    .dataframe tbody tr th {\n",
       "        vertical-align: top;\n",
       "    }\n",
       "\n",
       "    .dataframe thead th {\n",
       "        text-align: right;\n",
       "    }\n",
       "</style>\n",
       "<table border=\"1\" class=\"dataframe\">\n",
       "  <thead>\n",
       "    <tr style=\"text-align: right;\">\n",
       "      <th></th>\n",
       "      <th>VIN Code</th>\n",
       "      <th>Model</th>\n",
       "    </tr>\n",
       "  </thead>\n",
       "  <tbody>\n",
       "    <tr>\n",
       "      <th>0</th>\n",
       "      <td>A11%A14%A15%A21%A24%A25%A31%A34%A35%A41%A44%A45</td>\n",
       "      <td>Ford Aerostar regular length passenger van ('8...</td>\n",
       "    </tr>\n",
       "    <tr>\n",
       "      <th>1</th>\n",
       "      <td>A51%A50%A51%A52%A53%A54%A57%A58</td>\n",
       "      <td>Ford Windstar passenger van ('95-'98) % Ford W...</td>\n",
       "    </tr>\n",
       "    <tr>\n",
       "      <th>2</th>\n",
       "      <td>A50%A51%A52%A54%A57%A58</td>\n",
       "      <td>Ford Freestar S ('04-'05) % Ford Freestar SE (...</td>\n",
       "    </tr>\n",
       "    <tr>\n",
       "      <th>3</th>\n",
       "      <td>A20%A21%A22%A23</td>\n",
       "      <td>Mercury Monterey ('04) % Mercury Monterey; Con...</td>\n",
       "    </tr>\n",
       "    <tr>\n",
       "      <th>4</th>\n",
       "      <td>C35%C45%C55</td>\n",
       "      <td>Ford E-350 Chassis Cab ('03-'04) % Ford E-450 ...</td>\n",
       "    </tr>\n",
       "  </tbody>\n",
       "</table>\n",
       "</div>"
      ],
      "text/plain": [
       "                                          VIN Code  \\\n",
       "0  A11%A14%A15%A21%A24%A25%A31%A34%A35%A41%A44%A45   \n",
       "1                  A51%A50%A51%A52%A53%A54%A57%A58   \n",
       "2                          A50%A51%A52%A54%A57%A58   \n",
       "3                                  A20%A21%A22%A23   \n",
       "4                                      C35%C45%C55   \n",
       "\n",
       "                                               Model  \n",
       "0  Ford Aerostar regular length passenger van ('8...  \n",
       "1  Ford Windstar passenger van ('95-'98) % Ford W...  \n",
       "2  Ford Freestar S ('04-'05) % Ford Freestar SE (...  \n",
       "3  Mercury Monterey ('04) % Mercury Monterey; Con...  \n",
       "4  Ford E-350 Chassis Cab ('03-'04) % Ford E-450 ...  "
      ]
     },
     "execution_count": 154,
     "metadata": {},
     "output_type": "execute_result"
    }
   ],
   "source": [
    "models_1.head()"
   ]
  },
  {
   "cell_type": "code",
   "execution_count": 155,
   "metadata": {},
   "outputs": [
    {
     "name": "stdout",
     "output_type": "stream",
     "text": [
      "<class 'pandas.core.series.Series'>\n",
      "Index: 1467 entries, 0 to 202\n",
      "Series name: VIN Code\n",
      "Non-Null Count  Dtype \n",
      "--------------  ----- \n",
      "1467 non-null   object\n",
      "dtypes: object(1)\n",
      "memory usage: 22.9+ KB\n"
     ]
    }
   ],
   "source": [
    "v = models_1['VIN Code'].str.split('%').explode()\n",
    "v.info()"
   ]
  },
  {
   "cell_type": "code",
   "execution_count": 156,
   "metadata": {},
   "outputs": [
    {
     "name": "stdout",
     "output_type": "stream",
     "text": [
      "<class 'pandas.core.series.Series'>\n",
      "Index: 1517 entries, 0 to 202\n",
      "Series name: Model\n",
      "Non-Null Count  Dtype \n",
      "--------------  ----- \n",
      "1517 non-null   object\n",
      "dtypes: object(1)\n",
      "memory usage: 23.7+ KB\n"
     ]
    }
   ],
   "source": [
    "m = models_1['Model'].str.split('%').explode()\n",
    "\n",
    "m.info()"
   ]
  },
  {
   "cell_type": "markdown",
   "metadata": {},
   "source": [
    "Не совпадает количество строк, видимо, есть пустые строки с пробелом."
   ]
  },
  {
   "cell_type": "code",
   "execution_count": 157,
   "metadata": {},
   "outputs": [
    {
     "data": {
      "text/plain": [
       "(59,)"
      ]
     },
     "execution_count": 157,
     "metadata": {},
     "output_type": "execute_result"
    }
   ],
   "source": [
    "m[m==''].shape"
   ]
  },
  {
   "cell_type": "code",
   "execution_count": 158,
   "metadata": {},
   "outputs": [
    {
     "data": {
      "text/plain": [
       "(9,)"
      ]
     },
     "execution_count": 158,
     "metadata": {},
     "output_type": "execute_result"
    }
   ],
   "source": [
    "v[v==''].shape"
   ]
  },
  {
   "cell_type": "code",
   "execution_count": 159,
   "metadata": {},
   "outputs": [
    {
     "data": {
      "text/plain": [
       "(1458,)"
      ]
     },
     "execution_count": 159,
     "metadata": {},
     "output_type": "execute_result"
    }
   ],
   "source": [
    "m = m[m!='']\n",
    "m.shape"
   ]
  },
  {
   "cell_type": "code",
   "execution_count": 160,
   "metadata": {},
   "outputs": [
    {
     "data": {
      "text/plain": [
       "(1458,)"
      ]
     },
     "execution_count": 160,
     "metadata": {},
     "output_type": "execute_result"
    }
   ],
   "source": [
    "v = v[v!='']\n",
    "v.shape"
   ]
  },
  {
   "cell_type": "code",
   "execution_count": 161,
   "metadata": {},
   "outputs": [],
   "source": [
    "models_1 = pd.concat([v,m], axis =1)"
   ]
  },
  {
   "cell_type": "code",
   "execution_count": 162,
   "metadata": {},
   "outputs": [
    {
     "data": {
      "text/html": [
       "<div>\n",
       "<style scoped>\n",
       "    .dataframe tbody tr th:only-of-type {\n",
       "        vertical-align: middle;\n",
       "    }\n",
       "\n",
       "    .dataframe tbody tr th {\n",
       "        vertical-align: top;\n",
       "    }\n",
       "\n",
       "    .dataframe thead th {\n",
       "        text-align: right;\n",
       "    }\n",
       "</style>\n",
       "<table border=\"1\" class=\"dataframe\">\n",
       "  <thead>\n",
       "    <tr style=\"text-align: right;\">\n",
       "      <th></th>\n",
       "      <th>VIN Code</th>\n",
       "      <th>Model</th>\n",
       "    </tr>\n",
       "  </thead>\n",
       "  <tbody>\n",
       "    <tr>\n",
       "      <th>77</th>\n",
       "      <td>P1R</td>\n",
       "      <td>Ford EcoSport; S FWD ('18)</td>\n",
       "    </tr>\n",
       "    <tr>\n",
       "      <th>88</th>\n",
       "      <td>P38</td>\n",
       "      <td>Ford Tempo, 4-door sedan; Sport GL ('87), GLS...</td>\n",
       "    </tr>\n",
       "    <tr>\n",
       "      <th>15</th>\n",
       "      <td>F47</td>\n",
       "      <td>Ford F-Series, Super Duty F-450, Regular Cab,...</td>\n",
       "    </tr>\n",
       "    <tr>\n",
       "      <th>96</th>\n",
       "      <td>P58</td>\n",
       "      <td>Ford Taurus; SE wagon ('00-'05)</td>\n",
       "    </tr>\n",
       "    <tr>\n",
       "      <th>122</th>\n",
       "      <td>P8C</td>\n",
       "      <td>Ford Mustang, Coupe; GT ('24)</td>\n",
       "    </tr>\n",
       "  </tbody>\n",
       "</table>\n",
       "</div>"
      ],
      "text/plain": [
       "    VIN Code                                              Model\n",
       "77       P1R                        Ford EcoSport; S FWD ('18) \n",
       "88       P38   Ford Tempo, 4-door sedan; Sport GL ('87), GLS...\n",
       "15       F47   Ford F-Series, Super Duty F-450, Regular Cab,...\n",
       "96       P58                   Ford Taurus; SE wagon ('00-'05) \n",
       "122      P8C                      Ford Mustang, Coupe; GT ('24)"
      ]
     },
     "execution_count": 162,
     "metadata": {},
     "output_type": "execute_result"
    }
   ],
   "source": [
    "models_1.sample(5)"
   ]
  },
  {
   "cell_type": "code",
   "execution_count": 163,
   "metadata": {},
   "outputs": [
    {
     "data": {
      "text/html": [
       "<div>\n",
       "<style scoped>\n",
       "    .dataframe tbody tr th:only-of-type {\n",
       "        vertical-align: middle;\n",
       "    }\n",
       "\n",
       "    .dataframe tbody tr th {\n",
       "        vertical-align: top;\n",
       "    }\n",
       "\n",
       "    .dataframe thead th {\n",
       "        text-align: right;\n",
       "    }\n",
       "</style>\n",
       "<table border=\"1\" class=\"dataframe\">\n",
       "  <thead>\n",
       "    <tr style=\"text-align: right;\">\n",
       "      <th></th>\n",
       "      <th>VIN Code</th>\n",
       "      <th>Model</th>\n",
       "    </tr>\n",
       "  </thead>\n",
       "  <tbody>\n",
       "    <tr>\n",
       "      <th>33</th>\n",
       "      <td>W80%W82%W82%W90</td>\n",
       "      <td>Ford LNT8000 Diesel (Short-nose) (Tandem Axle)...</td>\n",
       "    </tr>\n",
       "  </tbody>\n",
       "</table>\n",
       "</div>"
      ],
      "text/plain": [
       "           VIN Code                                              Model\n",
       "33  W80%W82%W82%W90  Ford LNT8000 Diesel (Short-nose) (Tandem Axle)..."
      ]
     },
     "execution_count": 163,
     "metadata": {},
     "output_type": "execute_result"
    }
   ],
   "source": [
    "models_2 = pd.read_html(StringIO(models_table_2))[0]\n",
    "models_2.sample()"
   ]
  },
  {
   "cell_type": "code",
   "execution_count": 164,
   "metadata": {},
   "outputs": [
    {
     "name": "stdout",
     "output_type": "stream",
     "text": [
      "<class 'pandas.core.series.Series'>\n",
      "Index: 217 entries, 0 to 42\n",
      "Series name: VIN Code\n",
      "Non-Null Count  Dtype \n",
      "--------------  ----- \n",
      "217 non-null    object\n",
      "dtypes: object(1)\n",
      "memory usage: 3.4+ KB\n",
      "None\n",
      "<class 'pandas.core.series.Series'>\n",
      "Index: 222 entries, 0 to 42\n",
      "Series name: Model\n",
      "Non-Null Count  Dtype \n",
      "--------------  ----- \n",
      "222 non-null    object\n",
      "dtypes: object(1)\n",
      "memory usage: 3.5+ KB\n"
     ]
    }
   ],
   "source": [
    "v = models_2['VIN Code'].str.split('%').explode()\n",
    "print(v.info())\n",
    "m = models_2['Model'].str.split('%').explode()\n",
    "\n",
    "m.info()"
   ]
  },
  {
   "cell_type": "code",
   "execution_count": 165,
   "metadata": {},
   "outputs": [
    {
     "name": "stdout",
     "output_type": "stream",
     "text": [
      "(5,)\n",
      "(0,)\n"
     ]
    }
   ],
   "source": [
    "print(m[m==''].shape)\n",
    "print(v[v==''].shape)"
   ]
  },
  {
   "cell_type": "code",
   "execution_count": 166,
   "metadata": {},
   "outputs": [
    {
     "data": {
      "text/html": [
       "<div>\n",
       "<style scoped>\n",
       "    .dataframe tbody tr th:only-of-type {\n",
       "        vertical-align: middle;\n",
       "    }\n",
       "\n",
       "    .dataframe tbody tr th {\n",
       "        vertical-align: top;\n",
       "    }\n",
       "\n",
       "    .dataframe thead th {\n",
       "        text-align: right;\n",
       "    }\n",
       "</style>\n",
       "<table border=\"1\" class=\"dataframe\">\n",
       "  <thead>\n",
       "    <tr style=\"text-align: right;\">\n",
       "      <th></th>\n",
       "      <th>VIN Code</th>\n",
       "      <th>Model</th>\n",
       "    </tr>\n",
       "  </thead>\n",
       "  <tbody>\n",
       "    <tr>\n",
       "      <th>11</th>\n",
       "      <td>G70</td>\n",
       "      <td>Ford P700, Gas, Parcel Stripped Chassis ('95-...</td>\n",
       "    </tr>\n",
       "    <tr>\n",
       "      <th>8</th>\n",
       "      <td>F6B</td>\n",
       "      <td>Ford F-Series, F-650 Super Duty, Regular Cab,...</td>\n",
       "    </tr>\n",
       "    <tr>\n",
       "      <th>15</th>\n",
       "      <td>K64</td>\n",
       "      <td>Ford F-Series, F-600, Detroit Diesel 8.2L \"Fu...</td>\n",
       "    </tr>\n",
       "    <tr>\n",
       "      <th>35</th>\n",
       "      <td>X65</td>\n",
       "      <td>Ford F-Series, F-650 Super Duty, Super Cab, St...</td>\n",
       "    </tr>\n",
       "    <tr>\n",
       "      <th>12</th>\n",
       "      <td>H82</td>\n",
       "      <td>Ford C series, CT8000, Caterpillar 3208 Diese...</td>\n",
       "    </tr>\n",
       "  </tbody>\n",
       "</table>\n",
       "</div>"
      ],
      "text/plain": [
       "   VIN Code                                              Model\n",
       "11      G70   Ford P700, Gas, Parcel Stripped Chassis ('95-...\n",
       "8       F6B   Ford F-Series, F-650 Super Duty, Regular Cab,...\n",
       "15      K64   Ford F-Series, F-600, Detroit Diesel 8.2L \"Fu...\n",
       "35      X65  Ford F-Series, F-650 Super Duty, Super Cab, St...\n",
       "12      H82   Ford C series, CT8000, Caterpillar 3208 Diese..."
      ]
     },
     "execution_count": 166,
     "metadata": {},
     "output_type": "execute_result"
    }
   ],
   "source": [
    "m = m[m!='']\n",
    "models_2 = pd.concat([v,m], axis =1)\n",
    "models_2.sample(5)"
   ]
  },
  {
   "cell_type": "code",
   "execution_count": 167,
   "metadata": {},
   "outputs": [
    {
     "data": {
      "text/plain": [
       "True"
      ]
     },
     "execution_count": 167,
     "metadata": {},
     "output_type": "execute_result"
    }
   ],
   "source": [
    "models = pd.concat([models_1, models_2], axis = 0)\n",
    "models.shape[0] == models_1.shape[0] + models_2.shape[0]"
   ]
  },
  {
   "cell_type": "code",
   "execution_count": 168,
   "metadata": {},
   "outputs": [
    {
     "data": {
      "text/html": [
       "<div>\n",
       "<style scoped>\n",
       "    .dataframe tbody tr th:only-of-type {\n",
       "        vertical-align: middle;\n",
       "    }\n",
       "\n",
       "    .dataframe tbody tr th {\n",
       "        vertical-align: top;\n",
       "    }\n",
       "\n",
       "    .dataframe thead th {\n",
       "        text-align: right;\n",
       "    }\n",
       "</style>\n",
       "<table border=\"1\" class=\"dataframe\">\n",
       "  <thead>\n",
       "    <tr style=\"text-align: right;\">\n",
       "      <th></th>\n",
       "      <th>VIN Code</th>\n",
       "      <th>Model</th>\n",
       "    </tr>\n",
       "  </thead>\n",
       "  <tbody>\n",
       "    <tr>\n",
       "      <th>10</th>\n",
       "      <td>F25</td>\n",
       "      <td>Ford F-Series, F-250, Regular Cab, 2WD ('81-'...</td>\n",
       "    </tr>\n",
       "    <tr>\n",
       "      <th>144</th>\n",
       "      <td>S7F</td>\n",
       "      <td>Ford Transit Connect; XLT Cargo Van LWB w/Swi...</td>\n",
       "    </tr>\n",
       "    <tr>\n",
       "      <th>5</th>\n",
       "      <td>E15</td>\n",
       "      <td>Ford Econoline, E-150 Window Van regular leng...</td>\n",
       "    </tr>\n",
       "  </tbody>\n",
       "</table>\n",
       "</div>"
      ],
      "text/plain": [
       "    VIN Code                                              Model\n",
       "10       F25   Ford F-Series, F-250, Regular Cab, 2WD ('81-'...\n",
       "144      S7F   Ford Transit Connect; XLT Cargo Van LWB w/Swi...\n",
       "5        E15   Ford Econoline, E-150 Window Van regular leng..."
      ]
     },
     "execution_count": 168,
     "metadata": {},
     "output_type": "execute_result"
    }
   ],
   "source": [
    "models.sample(3)"
   ]
  },
  {
   "cell_type": "code",
   "execution_count": 169,
   "metadata": {},
   "outputs": [],
   "source": [
    "year.to_pickle(r'parsed_wiki_tables\\year.pkl')\n",
    "wmi.to_pickle(r'parsed_wiki_tables\\wmi.pkl')\n",
    "models.to_pickle(r'parsed_wiki_tables\\models.pkl')\n",
    "engine.to_pickle(r'parsed_wiki_tables\\engine.pkl')\n",
    "brakes.to_pickle(r'parsed_wiki_tables\\brakes.pkl')\n",
    "restraints.to_pickle(r'parsed_wiki_tables\\restraints.pkl')"
   ]
  },
  {
   "cell_type": "markdown",
   "metadata": {},
   "source": [
    "Создадим класс:"
   ]
  },
  {
   "cell_type": "code",
   "execution_count": 170,
   "metadata": {},
   "outputs": [],
   "source": [
    "class AutoByVin:\n",
    "    def __init__(self, vin_code):\n",
    "        self.vin_code = vin_code\n",
    "        with open('model.pkl', 'rb') as f:\n",
    "            self.model_for_pred = pickle.load(f)\n",
    "\n",
    "        with open(r'parsed_wiki_tables\\year.pkl', 'rb') as f:\n",
    "            self.year = pickle.load(f)\n",
    "\n",
    "        with open(r'parsed_wiki_tables\\wmi.pkl', 'rb') as f:\n",
    "            self.wmi = pickle.load(f)\n",
    "        \n",
    "        with open(r'parsed_wiki_tables\\restraints.pkl', 'rb') as f:\n",
    "            self.restraints = pickle.load(f)\n",
    "\n",
    "        with open(r'parsed_wiki_tables\\models.pkl', 'rb') as f:\n",
    "            self.models = pickle.load(f)\n",
    "\n",
    "        with open(r'parsed_wiki_tables\\engine.pkl', 'rb') as f:\n",
    "            self.engine = pickle.load(f)\n",
    "\n",
    "        with open(r'parsed_wiki_tables\\brakes.pkl', 'rb') as f:\n",
    "            self.brakes = pickle.load(f)\n",
    "        \n",
    "    def parse_vin(self):\n",
    "        allowed = r'ABCDEFGHJKLMNPRSTUVWXYZ1234567890'\n",
    "        wmi_re = f'(?P<wmi>[{allowed}]{{3}})'   #1-3\n",
    "        brake_re = f'(?P<brake>[{allowed}]{{1}})' #4\n",
    "        model_re = f'(?P<model>[{allowed}]{{3}})' #5-7\n",
    "        engine_re = f'(?P<engine>[{allowed}]{{1}})' #8\n",
    "        check_re = f'(?P<check>[{allowed}]{{1}})' #9\n",
    "        year_re = f'(?P<year>[{allowed}]{{1}})' #10\n",
    "        plant_re = f'(?P<plant>[{allowed}]{{1}})' #11\n",
    "        series_re = f'(?P<series>[{allowed}]{{3}}\\\\d{{3}})' #12-17\n",
    "\n",
    "        #проверка, что это фордовский вин\n",
    "        \n",
    "\n",
    "\n",
    "        vin = f'({wmi_re}{brake_re}{model_re}{engine_re}{check_re}{year_re}{plant_re}{series_re})'\n",
    "        vin_re = re.compile(vin, re.X)\n",
    "        match = vin_re.match(self.vin_code)\n",
    "        if not match:\n",
    "            raise ValueError('Невалидный вин-код. Попробуйте еще раз.')\n",
    "        return pd.DataFrame([x.groupdict() for x in vin_re.finditer(self.vin_code)])\n",
    "\n",
    "    def get_auto_info(self):\n",
    "        parsed = self.parse_vin()\n",
    "        if parsed['wmi'].iloc[0] not in self.wmi['WMI'].unique():\n",
    "            raise ValueError(f'{self.vin_code} не относится к бренду Ford. Не можем предоставить достоверную информацию.')\n",
    "\n",
    "        auto_wmi = self.wmi[self.wmi['WMI'] == parsed['wmi'].iloc[0]]\n",
    "        auto_model = self.models[self.models['VIN Code'] == parsed['model'].iloc[0]]\n",
    "        auto_engine = self.engine[self.engine['VIN code'] == parsed['engine'].iloc[0]]\n",
    "        auto_brakes = self.brakes[self.brakes['VIN  Code'] == parsed['brake'].iloc[0]]\n",
    "        auto_restraints = self.restraints[self.restraints['VIN code'] == parsed['brake'].iloc[0]]\n",
    "\n",
    "\n",
    "        info =  {\n",
    "            \"model\": auto_model.iloc[0]['Model'] if not auto_model.empty else \"Unknown\",\n",
    "            \"engine\": (auto_engine.iloc[0]['Power (hp)'], auto_engine.iloc[0]['Fuel']) if not auto_engine.empty else \"Unknown\", \n",
    "            \"country\": auto_wmi.iloc[0]['Country'] if not auto_wmi.empty else \"Unknown\",\n",
    "            \"description\": auto_wmi.iloc[0]['Description'] if not auto_wmi.empty else \"Unknown\",\n",
    "            \"vehicle type\": auto_wmi.iloc[0]['Vehicle types'] if not auto_wmi.empty else \"Unknown\",\n",
    "            \"brakes\": auto_brakes.iloc[0]['Brake System'] if not auto_brakes.empty else \"Unknown\",\n",
    "            \"restraints\": auto_restraints.iloc[0]['Description'] if not auto_restraints.empty else \"Unknown\",\n",
    "\n",
    "        }\n",
    "        return f'''Страна производства: {info[\"country\"]}\n",
    "Описание: {info[\"description\"]}\n",
    "Тип автомобиля: {info[\"vehicle type\"]}\n",
    "Модель: {info[\"model\"]}\n",
    "Характеристик мотора: {info[\"engine\"][0]} лошадиных сил, топливо: {info[\"engine\"][1]}\n",
    "Тормозная система: {info[\"brakes\"]}\n",
    "Удерживающие устройства: {info[\"restraints\"]}\n",
    "\n",
    "'''\n",
    "\n",
    "    def predict_price(self):\n",
    "        parsed = self.parse_vin()\n",
    "        if parsed['wmi'].iloc[0] not in self.wmi['WMI'].unique():\n",
    "            raise ValueError(f'{self.vin_code} не относится к бренду Ford. Не можем предоставить достоверную информацию.')\n",
    "        parsed = parsed.drop(columns=['series', 'check'])\n",
    "        price = self.model_for_pred.predict(parsed)\n",
    "        return price[0]\n"
   ]
  },
  {
   "cell_type": "code",
   "execution_count": 171,
   "metadata": {},
   "outputs": [
    {
     "name": "stdout",
     "output_type": "stream",
     "text": [
      "Страна производства: Mexico\n",
      "Описание: Ford Motor Company (Mexico)\n",
      "Тип автомобиля: Ford passenger car\n",
      "Модель:  Ford Fusion; SE, FWD ('10-'12) \n",
      "Характеристик мотора: 175 лошадиных сил, топливо: Gasoline\n",
      "Тормозная система: Unknown\n",
      "Удерживающие устройства: Active Belts plus Driver and Passenger Front Airbags & Side Airbags (1st & 2nd row) & Driver and Passenger Knee Airbags ('13-)\n",
      "\n",
      "\n",
      "Прогнозируемая стоимость, у.е.: 14185\n"
     ]
    }
   ],
   "source": [
    "auto = AutoByVin(\"3FA6P0H75ER208976\")\n",
    "print(auto.get_auto_info())\n",
    "print(\"Прогнозируемая стоимость, у.е.:\", round(auto.predict_price()))"
   ]
  },
  {
   "cell_type": "markdown",
   "metadata": {},
   "source": [
    "# Итоговый вывод работы:\n",
    "В этом исследовании я создала модель, которая предсказывает стоимость автомобиля марки Ford по составляющим ВИН-кода. \n",
    "\n",
    "При подготовки данных для обучения модели я распарсила ВИН-коды в датасет с помощью определенного регулярного выражения, включающего паттерны ВИН-кодов.\n",
    "\n",
    "В качестве модели использовала градиентный бустинг Catboost (100 итераций, глубина деревьев - 3, скорость обучения - 0.1). Получили адекватное качество (лучше чем у константной модели).\n",
    "\n",
    "Метрики на тестовой выборке:\n",
    "- MAE: 2279\n",
    "- MAPE: 0.25\n",
    "- R2: 0.84\n",
    "- RMSE: 3168\n",
    "\n",
    "Наиболее важными признаками, которые влияют на предсказание цены, оказались год производства и модель авто.\n",
    "\n",
    "Заключающим этап работы был подготовлен класс, котороый на вход принимает vin-код автомобиля (один) и выдает информацию об автомобиле и предсказанную стоимость.\n",
    "\n",
    "\n"
   ]
  },
  {
   "cell_type": "markdown",
   "metadata": {},
   "source": []
  }
 ],
 "metadata": {
  "kernelspec": {
   "display_name": "Python 3",
   "language": "python",
   "name": "python3"
  },
  "language_info": {
   "codemirror_mode": {
    "name": "ipython",
    "version": 3
   },
   "file_extension": ".py",
   "mimetype": "text/x-python",
   "name": "python",
   "nbconvert_exporter": "python",
   "pygments_lexer": "ipython3",
   "version": "3.9.5"
  }
 },
 "nbformat": 4,
 "nbformat_minor": 2
}
